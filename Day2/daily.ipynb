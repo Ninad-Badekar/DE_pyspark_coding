{
  "nbformat": 4,
  "nbformat_minor": 0,
  "metadata": {
    "colab": {
      "provenance": []
    },
    "kernelspec": {
      "name": "python3",
      "display_name": "Python 3"
    },
    "language_info": {
      "name": "python"
    }
  },
  "cells": [
    {
      "cell_type": "markdown",
      "source": [
        "Problem Statement\n",
        "<pre>\n",
        "You have a PySpark DataFrame containing product sales. Each product belongs to a category, and you need to find the top 2 products by sales amount within each category.\n",
        "\n",
        "\n",
        "---\n",
        "Sample Input (products)\n",
        "category\tproduct\tsales\n",
        "Electronics\tLaptop\t1200\n",
        "Electronics\tPhone\t900\n",
        "Electronics\tTablet\t700\n",
        "Clothing\tShirt\t400\n",
        "Clothing\tJeans\t600\n",
        "Clothing\tJacket\t800\n",
        "---\n",
        "Expected Output\n",
        "category\tproduct\tsales\n",
        "Electronics\tLaptop\t1200\n",
        "Electronics\tPhone\t900\n",
        "Clothing\tJacket\t800\n",
        "Clothing\tJeans\t600\n",
        "\n",
        "</pre>"
      ],
      "metadata": {
        "id": "5qviMoa8oF0X"
      }
    },
    {
      "cell_type": "code",
      "execution_count": 17,
      "metadata": {
        "id": "XOBT5rgxnUZW"
      },
      "outputs": [],
      "source": [
        "from pyspark.sql import SparkSession\n",
        "from pyspark.sql import Window\n",
        "from pyspark.sql import functions as F\n",
        "from datetime import date"
      ]
    },
    {
      "cell_type": "code",
      "source": [
        "spark = SparkSession.builder.appName('Daily-Coding-Day2').getOrCreate()"
      ],
      "metadata": {
        "id": "KBNyy_HPogx5"
      },
      "execution_count": 3,
      "outputs": []
    },
    {
      "cell_type": "code",
      "source": [
        "data = [('Electronics','Laptop',1200),\n",
        "('Electronics','Phone',900),\n",
        "('Electronics','Tablet',700),\n",
        "('Clothing','Shirt',400),\n",
        "('Clothing','Jeans',600),\n",
        "('Clothing','Jacket',800)]\n",
        "\n",
        "schema = ['category','product','sales']\n",
        "sales_df = spark.createDataFrame(data=data,schema=schema)\n",
        "sales_df.printSchema()\n",
        "sales_df.show()"
      ],
      "metadata": {
        "colab": {
          "base_uri": "https://localhost:8080/"
        },
        "id": "JjdjxM2eooXg",
        "outputId": "fceda346-16ca-4ab8-80c5-6d97c1160dcc"
      },
      "execution_count": 5,
      "outputs": [
        {
          "output_type": "stream",
          "name": "stdout",
          "text": [
            "root\n",
            " |-- category: string (nullable = true)\n",
            " |-- product: string (nullable = true)\n",
            " |-- sales: long (nullable = true)\n",
            "\n",
            "+-----------+-------+-----+\n",
            "|   category|product|sales|\n",
            "+-----------+-------+-----+\n",
            "|Electronics| Laptop| 1200|\n",
            "|Electronics|  Phone|  900|\n",
            "|Electronics| Tablet|  700|\n",
            "|   Clothing|  Shirt|  400|\n",
            "|   Clothing|  Jeans|  600|\n",
            "|   Clothing| Jacket|  800|\n",
            "+-----------+-------+-----+\n",
            "\n"
          ]
        }
      ]
    },
    {
      "cell_type": "code",
      "source": [
        "windowspec = Window.partitionBy('category').orderBy(F.col('sales').desc())\n",
        "sales_df = sales_df.withColumn('Rank',F.dense_rank().over(windowspec))\n",
        "sales_df.show()"
      ],
      "metadata": {
        "colab": {
          "base_uri": "https://localhost:8080/"
        },
        "id": "lAUqGAC4pQDN",
        "outputId": "6c073a90-c682-4c6c-c954-ff0826c97f31"
      },
      "execution_count": 14,
      "outputs": [
        {
          "output_type": "stream",
          "name": "stdout",
          "text": [
            "+-----------+-------+-----+----+\n",
            "|   category|product|sales|Rank|\n",
            "+-----------+-------+-----+----+\n",
            "|   Clothing| Jacket|  800|   1|\n",
            "|   Clothing|  Jeans|  600|   2|\n",
            "|   Clothing|  Shirt|  400|   3|\n",
            "|Electronics| Laptop| 1200|   1|\n",
            "|Electronics|  Phone|  900|   2|\n",
            "|Electronics| Tablet|  700|   3|\n",
            "+-----------+-------+-----+----+\n",
            "\n"
          ]
        }
      ]
    },
    {
      "cell_type": "code",
      "source": [
        "top2df = sales_df.filter(F.col('Rank')<3).select(F.col('category'),F.col('product'),F.col('sales'))\n",
        "top2df.show()"
      ],
      "metadata": {
        "colab": {
          "base_uri": "https://localhost:8080/"
        },
        "id": "9uzKnz6Qp5di",
        "outputId": "618e6dfb-c9ce-49d3-da38-074b1cd2b394"
      },
      "execution_count": 16,
      "outputs": [
        {
          "output_type": "stream",
          "name": "stdout",
          "text": [
            "+-----------+-------+-----+\n",
            "|   category|product|sales|\n",
            "+-----------+-------+-----+\n",
            "|   Clothing| Jacket|  800|\n",
            "|   Clothing|  Jeans|  600|\n",
            "|Electronics| Laptop| 1200|\n",
            "|Electronics|  Phone|  900|\n",
            "+-----------+-------+-----+\n",
            "\n"
          ]
        }
      ]
    },
    {
      "cell_type": "markdown",
      "source": [
        "<pre>\n",
        "Problem Statement\n",
        "You are given a SQL table transactions(user_id, txn_date, amount) where amount can be positive (credit) or negative (debit). Write a SQL query to calculate the running balance for each user ordered by txn_date.\n",
        "\n",
        "Sample Input (transactions)\n",
        "user_id\ttxn_date\tamount\n",
        "1\t2025-01-01\t500\n",
        "1\t2025-01-03\t-200\n",
        "1\t2025-01-05\t300\n",
        "2\t2025-01-02\t1000\n",
        "2\t2025-01-04\t-400\n",
        "Expected Output\n",
        "user_id\ttxn_date\tamount\trunning_balance\n",
        "1\t2025-01-01\t500\t500\n",
        "1\t2025-01-03\t-200\t300\n",
        "1\t2025-01-05\t300\t600\n",
        "2\t2025-01-02\t1000\t1000\n",
        "2\t2025-01-04\t-400\t600\n",
        "</pre>"
      ],
      "metadata": {
        "id": "u6KLkWhMqt-8"
      }
    },
    {
      "cell_type": "code",
      "source": [
        "from pyspark.sql import SparkSession\n",
        "from pyspark.sql import functions as F\n",
        "from pyspark.sql.window import Window\n",
        "\n",
        "\n",
        "data = [\n",
        "    (1, date(2025, 1, 1), 500),\n",
        "    (1, date(2025, 1, 3), -200),\n",
        "    (1, date(2025, 1, 5), 300),\n",
        "    (2, date(2025, 1, 2), 1000),\n",
        "    (2, date(2025, 1, 4), -400),\n",
        "]\n",
        "columns = [\"user_id\", \"txn_date\", \"amount\"]\n",
        "transactions_df = spark.createDataFrame(data, schema=columns)\n",
        "transactions_df.show()\n"
      ],
      "metadata": {
        "colab": {
          "base_uri": "https://localhost:8080/"
        },
        "id": "_13imMM4qjzn",
        "outputId": "dafc9447-8c18-45c1-dec6-041394ffa797"
      },
      "execution_count": 18,
      "outputs": [
        {
          "output_type": "stream",
          "name": "stdout",
          "text": [
            "+-------+----------+------+\n",
            "|user_id|  txn_date|amount|\n",
            "+-------+----------+------+\n",
            "|      1|2025-01-01|   500|\n",
            "|      1|2025-01-03|  -200|\n",
            "|      1|2025-01-05|   300|\n",
            "|      2|2025-01-02|  1000|\n",
            "|      2|2025-01-04|  -400|\n",
            "+-------+----------+------+\n",
            "\n"
          ]
        }
      ]
    },
    {
      "cell_type": "code",
      "source": [
        "windowspec = Window.partitionBy('user_id').orderBy(F.col('txn_date'))\n",
        "running = transactions_df.withColumn('running_balance',F.sum(F.col('amount')).over(windowspec))\n",
        "running.show()"
      ],
      "metadata": {
        "colab": {
          "base_uri": "https://localhost:8080/"
        },
        "id": "2AeB6gZarJwj",
        "outputId": "3101980e-9a6c-42e2-fc2d-3474ce949fdb"
      },
      "execution_count": 20,
      "outputs": [
        {
          "output_type": "stream",
          "name": "stdout",
          "text": [
            "+-------+----------+------+---------------+\n",
            "|user_id|  txn_date|amount|running_balance|\n",
            "+-------+----------+------+---------------+\n",
            "|      1|2025-01-01|   500|            500|\n",
            "|      1|2025-01-03|  -200|            300|\n",
            "|      1|2025-01-05|   300|            600|\n",
            "|      2|2025-01-02|  1000|           1000|\n",
            "|      2|2025-01-04|  -400|            600|\n",
            "+-------+----------+------+---------------+\n",
            "\n"
          ]
        }
      ]
    },
    {
      "cell_type": "code",
      "source": [],
      "metadata": {
        "id": "GOB8lcOerzlY"
      },
      "execution_count": null,
      "outputs": []
    }
  ]
}