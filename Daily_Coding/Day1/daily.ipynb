{
  "cells": [
    {
      "cell_type": "markdown",
      "id": "dee2d81f",
      "metadata": {
        "id": "dee2d81f"
      },
      "source": [
        "<pre>Problem Statement\n",
        "You are given a PySpark DataFrame containing daily sales records. However, some dates are missing. Write a PySpark program to identify all the missing dates within the given range of dates.\n",
        "\n",
        "Sample Input (DataFrame sales)\n",
        "date\tsales\n",
        "2025-01-01\t100\n",
        "2025-01-02\t150\n",
        "2025-01-04\t120\n",
        "2025-01-06\t200\n",
        "Expected Output\n",
        "missing_date\n",
        "2025-01-03\n",
        "2025-01-05<pre>"
      ]
    },
    {
      "cell_type": "code",
      "source": [
        "from pyspark.sql import SparkSession\n",
        "from pyspark.sql.types import StructType, StructField, IntegerType, DateType\n",
        "from datetime import datetime\n",
        "from pyspark.sql.functions import col,to_date,aggregate,count, row_number, lag, datediff,when\n",
        "from pyspark.sql import functions as F\n",
        "from pyspark.sql.window import Window"
      ],
      "metadata": {
        "id": "lrULVVyOy8M_"
      },
      "id": "lrULVVyOy8M_",
      "execution_count": 54,
      "outputs": []
    },
    {
      "cell_type": "code",
      "source": [
        "spark = SparkSession.builder.appName(\"Daily-Coding-Day-1\").getOrCreate()"
      ],
      "metadata": {
        "id": "310bqmI4zDhz"
      },
      "id": "310bqmI4zDhz",
      "execution_count": 5,
      "outputs": []
    },
    {
      "cell_type": "code",
      "execution_count": 6,
      "id": "e510158a",
      "metadata": {
        "id": "e510158a"
      },
      "outputs": [],
      "source": [
        "data = [['2025-01-01',100],\n",
        "['2025-01-02',150],\n",
        "['2025-01-04',120],\n",
        "['2025-01-06',200]]"
      ]
    },
    {
      "cell_type": "code",
      "execution_count": 7,
      "id": "ff81aa10",
      "metadata": {
        "id": "ff81aa10"
      },
      "outputs": [],
      "source": [
        "schema = ['Date','sales']"
      ]
    },
    {
      "cell_type": "code",
      "execution_count": 8,
      "id": "c1243d02",
      "metadata": {
        "id": "c1243d02"
      },
      "outputs": [],
      "source": [
        "df = spark.createDataFrame(data=data,schema=schema)"
      ]
    },
    {
      "cell_type": "code",
      "execution_count": 10,
      "id": "2da61028",
      "metadata": {
        "colab": {
          "base_uri": "https://localhost:8080/"
        },
        "id": "2da61028",
        "outputId": "5bfa4887-a4cb-44b8-9591-dd118d71df82"
      },
      "outputs": [
        {
          "output_type": "stream",
          "name": "stdout",
          "text": [
            "root\n",
            " |-- Date: string (nullable = true)\n",
            " |-- sales: long (nullable = true)\n",
            "\n"
          ]
        }
      ],
      "source": [
        "df.printSchema()"
      ]
    },
    {
      "cell_type": "code",
      "source": [
        "df = df.withColumn('Date', to_date(col('Date'), \"yyyy-MM-dd\"))"
      ],
      "metadata": {
        "id": "lJubG5JnzQ4u"
      },
      "id": "lJubG5JnzQ4u",
      "execution_count": 16,
      "outputs": []
    },
    {
      "cell_type": "code",
      "source": [
        "df_dates = df.agg(F.min('date').alias('min_date'),F.max('date').alias('max_date'))\n",
        "df_dates.show()"
      ],
      "metadata": {
        "colab": {
          "base_uri": "https://localhost:8080/"
        },
        "id": "RvDAZ9m80G-7",
        "outputId": "a5ef650e-01d0-4216-d190-168eda32cb82"
      },
      "id": "RvDAZ9m80G-7",
      "execution_count": 37,
      "outputs": [
        {
          "output_type": "stream",
          "name": "stdout",
          "text": [
            "+----------+----------+\n",
            "|  min_date|  max_date|\n",
            "+----------+----------+\n",
            "|2025-01-01|2025-01-06|\n",
            "+----------+----------+\n",
            "\n"
          ]
        }
      ]
    },
    {
      "cell_type": "code",
      "source": [
        "all_dates = df_dates.select(F.expr(\"explode(sequence(min_date, max_date, interval 1 day)) as Date\"))\n",
        "all_dates.show()"
      ],
      "metadata": {
        "colab": {
          "base_uri": "https://localhost:8080/"
        },
        "id": "mWc8lvi_14rZ",
        "outputId": "1ba728ab-33f5-42e4-d1f1-2731dd59bc01"
      },
      "id": "mWc8lvi_14rZ",
      "execution_count": 41,
      "outputs": [
        {
          "output_type": "stream",
          "name": "stdout",
          "text": [
            "+----------+\n",
            "|      Date|\n",
            "+----------+\n",
            "|2025-01-01|\n",
            "|2025-01-02|\n",
            "|2025-01-03|\n",
            "|2025-01-04|\n",
            "|2025-01-05|\n",
            "|2025-01-06|\n",
            "+----------+\n",
            "\n"
          ]
        }
      ]
    },
    {
      "cell_type": "code",
      "source": [
        "missing = all_dates.join(df,on='Date',how='left_anti')\n",
        "missing.show()"
      ],
      "metadata": {
        "colab": {
          "base_uri": "https://localhost:8080/"
        },
        "id": "Hhw0FEPA3GhP",
        "outputId": "4cd7e6fb-5e79-409e-ab6b-a41cef325889"
      },
      "id": "Hhw0FEPA3GhP",
      "execution_count": 43,
      "outputs": [
        {
          "output_type": "stream",
          "name": "stdout",
          "text": [
            "+----------+\n",
            "|      Date|\n",
            "+----------+\n",
            "|2025-01-05|\n",
            "|2025-01-03|\n",
            "+----------+\n",
            "\n"
          ]
        }
      ]
    },
    {
      "cell_type": "markdown",
      "source": [
        "<pre>\n",
        "You are given a SQL table user_logins(user_id, login_date). Write a SQL query to find the longest streak of consecutive login days for each user.\n",
        "\n",
        "Sample Input (user_logins)\n",
        "user_id\tlogin_date\n",
        "1\t2025-01-01\n",
        "1\t2025-01-02\n",
        "1\t2025-01-04\n",
        "2\t2025-01-01\n",
        "2\t2025-01-02\n",
        "2\t2025-01-03\n",
        "2\t2025-01-05\n",
        "Expected Output\n",
        "user_id\tlongest_streak\n",
        "1\t2\n",
        "2\t3</pre>\n",
        "\n",
        "\n",
        "\n",
        "\n"
      ],
      "metadata": {
        "id": "WqiGkxBZ40Jp"
      },
      "id": "WqiGkxBZ40Jp"
    },
    {
      "cell_type": "code",
      "execution_count": 61,
      "id": "098c1078",
      "metadata": {
        "id": "098c1078"
      },
      "outputs": [],
      "source": [
        "from pyspark.sql import SparkSession\n",
        "from pyspark.sql.functions import col, row_number, lag, datediff\n",
        "from pyspark.sql.window import Window\n",
        "\n",
        "spark = SparkSession.builder.appName(\"ConsecutiveLoginStreak\").getOrCreate()\n",
        "\n",
        "data = [\n",
        "    (1, \"2025-01-01\"),\n",
        "    (1, \"2025-01-02\"),\n",
        "    (1, \"2025-01-04\"),\n",
        "    (2, \"2025-01-01\"),\n",
        "    (2, \"2025-01-02\"),\n",
        "    (2, \"2025-01-03\"),\n",
        "    (2, \"2025-01-05\")]\n",
        "columns = [\"user_id\", \"login_date\"]\n",
        "\n",
        "df = spark.createDataFrame(data, columns)\n",
        "\n",
        "df = df.withColumn(\"login_date\", col(\"login_date\").cast(\"date\"))\n",
        "\n"
      ]
    },
    {
      "cell_type": "code",
      "source": [
        "window_spec = Window.partitionBy('user_id').orderBy('login_date')\n",
        "df = df.withColumn(\"row_number\", row_number().over(window_spec))\n",
        "df = df.withColumn(\"prev_login_date\", lag(\"login_date\").over(window_spec))\n",
        "df.show()"
      ],
      "metadata": {
        "colab": {
          "base_uri": "https://localhost:8080/"
        },
        "id": "4g-cuFsc3AQG",
        "outputId": "00e49fa6-9359-45cf-90e8-925d11fcac46"
      },
      "id": "4g-cuFsc3AQG",
      "execution_count": 62,
      "outputs": [
        {
          "output_type": "stream",
          "name": "stdout",
          "text": [
            "+-------+----------+----------+---------------+\n",
            "|user_id|login_date|row_number|prev_login_date|\n",
            "+-------+----------+----------+---------------+\n",
            "|      1|2025-01-01|         1|           NULL|\n",
            "|      1|2025-01-02|         2|     2025-01-01|\n",
            "|      1|2025-01-04|         3|     2025-01-02|\n",
            "|      2|2025-01-01|         1|           NULL|\n",
            "|      2|2025-01-02|         2|     2025-01-01|\n",
            "|      2|2025-01-03|         3|     2025-01-02|\n",
            "|      2|2025-01-05|         4|     2025-01-03|\n",
            "+-------+----------+----------+---------------+\n",
            "\n"
          ]
        }
      ]
    },
    {
      "cell_type": "code",
      "source": [
        "df = df.withColumn(\"date_diff\", datediff(col(\"login_date\"), col(\"prev_login_date\")))\n",
        "df.show()"
      ],
      "metadata": {
        "colab": {
          "base_uri": "https://localhost:8080/"
        },
        "id": "lqNn8Cw_4FWn",
        "outputId": "f3732c3a-42ce-4076-f432-ac59ffe29b61"
      },
      "id": "lqNn8Cw_4FWn",
      "execution_count": 63,
      "outputs": [
        {
          "output_type": "stream",
          "name": "stdout",
          "text": [
            "+-------+----------+----------+---------------+---------+\n",
            "|user_id|login_date|row_number|prev_login_date|date_diff|\n",
            "+-------+----------+----------+---------------+---------+\n",
            "|      1|2025-01-01|         1|           NULL|     NULL|\n",
            "|      1|2025-01-02|         2|     2025-01-01|        1|\n",
            "|      1|2025-01-04|         3|     2025-01-02|        2|\n",
            "|      2|2025-01-01|         1|           NULL|     NULL|\n",
            "|      2|2025-01-02|         2|     2025-01-01|        1|\n",
            "|      2|2025-01-03|         3|     2025-01-02|        1|\n",
            "|      2|2025-01-05|         4|     2025-01-03|        2|\n",
            "+-------+----------+----------+---------------+---------+\n",
            "\n"
          ]
        }
      ]
    },
    {
      "cell_type": "code",
      "source": [
        "df = df.withColumn(\"streak\",when(col(\"date_diff\") > 1, 1).otherwise(0))\n",
        "df.show()"
      ],
      "metadata": {
        "colab": {
          "base_uri": "https://localhost:8080/"
        },
        "id": "Oiffg9586Ol3",
        "outputId": "e8a735e5-40a7-4c79-e16d-5fe88db4e217"
      },
      "id": "Oiffg9586Ol3",
      "execution_count": 65,
      "outputs": [
        {
          "output_type": "stream",
          "name": "stdout",
          "text": [
            "+-------+----------+----------+---------------+---------+------+\n",
            "|user_id|login_date|row_number|prev_login_date|date_diff|streak|\n",
            "+-------+----------+----------+---------------+---------+------+\n",
            "|      1|2025-01-01|         1|           NULL|     NULL|     0|\n",
            "|      1|2025-01-02|         2|     2025-01-01|        1|     0|\n",
            "|      1|2025-01-04|         3|     2025-01-02|        2|     1|\n",
            "|      2|2025-01-01|         1|           NULL|     NULL|     0|\n",
            "|      2|2025-01-02|         2|     2025-01-01|        1|     0|\n",
            "|      2|2025-01-03|         3|     2025-01-02|        1|     0|\n",
            "|      2|2025-01-05|         4|     2025-01-03|        2|     1|\n",
            "+-------+----------+----------+---------------+---------+------+\n",
            "\n"
          ]
        }
      ]
    },
    {
      "cell_type": "code",
      "source": [
        "df_streaks = df.groupBy(\"user_id\", \"streak\").agg(count('streak').alias(\"streak_length\"))\n",
        "df_streaks.show()"
      ],
      "metadata": {
        "colab": {
          "base_uri": "https://localhost:8080/"
        },
        "id": "r4zgaSPn6WVw",
        "outputId": "c42a3875-6ba1-4499-e8e8-fa4bef5dcb5c"
      },
      "id": "r4zgaSPn6WVw",
      "execution_count": 70,
      "outputs": [
        {
          "output_type": "stream",
          "name": "stdout",
          "text": [
            "+-------+------+-------------+\n",
            "|user_id|streak|streak_length|\n",
            "+-------+------+-------------+\n",
            "|      1|     0|            2|\n",
            "|      1|     1|            1|\n",
            "|      2|     0|            3|\n",
            "|      2|     1|            1|\n",
            "+-------+------+-------------+\n",
            "\n"
          ]
        }
      ]
    },
    {
      "cell_type": "code",
      "source": [
        "df_longest_streak = df_streaks.groupBy(\"user_id\").agg(F.max(col(\"streak_length\")).alias(\"longest_streak\"))\n",
        "df_longest_streak.show()"
      ],
      "metadata": {
        "colab": {
          "base_uri": "https://localhost:8080/"
        },
        "id": "zfG4EEYW6gQo",
        "outputId": "5f8fd22c-6a1b-4cdf-91e6-dd9b1b502e10"
      },
      "id": "zfG4EEYW6gQo",
      "execution_count": 76,
      "outputs": [
        {
          "output_type": "stream",
          "name": "stdout",
          "text": [
            "+-------+--------------+\n",
            "|user_id|longest_streak|\n",
            "+-------+--------------+\n",
            "|      1|             2|\n",
            "|      2|             3|\n",
            "+-------+--------------+\n",
            "\n"
          ]
        }
      ]
    },
    {
      "cell_type": "code",
      "source": [],
      "metadata": {
        "id": "pMBM67c96297"
      },
      "id": "pMBM67c96297",
      "execution_count": null,
      "outputs": []
    }
  ],
  "metadata": {
    "kernelspec": {
      "display_name": "Python 3",
      "language": "python",
      "name": "python3"
    },
    "language_info": {
      "codemirror_mode": {
        "name": "ipython",
        "version": 3
      },
      "file_extension": ".py",
      "mimetype": "text/x-python",
      "name": "python",
      "nbconvert_exporter": "python",
      "pygments_lexer": "ipython3",
      "version": "3.11.9"
    },
    "colab": {
      "provenance": []
    }
  },
  "nbformat": 4,
  "nbformat_minor": 5
}