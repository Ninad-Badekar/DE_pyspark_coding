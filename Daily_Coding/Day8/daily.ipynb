{
  "nbformat": 4,
  "nbformat_minor": 0,
  "metadata": {
    "colab": {
      "provenance": []
    },
    "kernelspec": {
      "name": "python3",
      "display_name": "Python 3"
    },
    "language_info": {
      "name": "python"
    }
  },
  "cells": [
    {
      "cell_type": "markdown",
      "source": [
        "<pre>\n",
        "Problem Statement\n",
        "You have a PySpark DataFrame containing daily sales data.\n",
        "Write a PySpark program to calculate the rolling 3-day average sales for each date,\n",
        "ordered by the date column.\n",
        "\n",
        "Sample Input (daily_sales)\n",
        "sale_date\tsales\n",
        "2025-01-01\t100\n",
        "2025-01-02\t200\n",
        "2025-01-03\t300\n",
        "2025-01-04\t400\n",
        "2025-01-05\t500\n",
        "Expected Output\n",
        "sale_date\tsales\trolling_3_day_avg\n",
        "2025-01-01\t100\t100.0\n",
        "2025-01-02\t200\t150.0\n",
        "2025-01-03\t300\t200.0\n",
        "2025-01-04\t400\t300.0\n",
        "2025-01-05\t500\t400.0\n",
        "</pre>"
      ],
      "metadata": {
        "id": "P-TXAWu_23xH"
      }
    },
    {
      "cell_type": "code",
      "source": [
        "from pyspark.sql import SparkSession\n",
        "from pyspark.sql import functions as F\n",
        "from pyspark.sql.window import Window"
      ],
      "metadata": {
        "id": "w_PloZdk275v"
      },
      "execution_count": 1,
      "outputs": []
    },
    {
      "cell_type": "code",
      "source": [
        "data= [(\"2025-01-01\",\t100),\n",
        "(\"2025-01-02\",200),\n",
        "(\"2025-01-03\",\t300),\n",
        "(\"2025-01-04\"\t,400),\n",
        "(\"2025-01-05\",\t500)]\n",
        "schema = ['sales_date','sales']\n",
        "spark = SparkSession.builder.appName('Daily-Day8').getOrCreate()\n",
        "daily_sales = spark.createDataFrame(data,schema)"
      ],
      "metadata": {
        "id": "ZWSj36ai3PJh"
      },
      "execution_count": 2,
      "outputs": []
    },
    {
      "cell_type": "code",
      "source": [
        "windowspec = Window.partitionBy('sales_date').rowsBetween(-3,0)"
      ],
      "metadata": {
        "id": "iP3R8KXn7UnM"
      },
      "execution_count": 5,
      "outputs": []
    },
    {
      "cell_type": "code",
      "source": [
        "daily_sales = daily_sales.withColumn('rolling_3_day_avg',F.avg('sales').over(windowspec))\n",
        "daily_sales.show()"
      ],
      "metadata": {
        "colab": {
          "base_uri": "https://localhost:8080/"
        },
        "id": "2zSc23218Qea",
        "outputId": "cfed131a-814f-4288-ffc5-d0808693aeb2"
      },
      "execution_count": 6,
      "outputs": [
        {
          "output_type": "stream",
          "name": "stdout",
          "text": [
            "+----------+-----+-----------------+\n",
            "|sales_date|sales|rolling_3_day_avg|\n",
            "+----------+-----+-----------------+\n",
            "|2025-01-01|  100|            100.0|\n",
            "|2025-01-02|  200|            200.0|\n",
            "|2025-01-03|  300|            300.0|\n",
            "|2025-01-04|  400|            400.0|\n",
            "|2025-01-05|  500|            500.0|\n",
            "+----------+-----+-----------------+\n",
            "\n"
          ]
        }
      ]
    },
    {
      "cell_type": "markdown",
      "source": [
        "<pre>\n",
        "Problem 2: SQL – Find Customers with Increasing Purchase Amounts\n",
        "Problem Statement\n",
        "You have a SQL table purchases(customer_id, purchase_date, amount).\n",
        "Write a query to find customers whose purchase amounts strictly increased\n",
        "with each new purchase date.\n",
        "\n",
        "Sample Input (purchases)\n",
        "customer_id\tpurchase_date\tamount\n",
        "C1\t2025-01-01\t100\n",
        "C1\t2025-01-05\t200\n",
        "C1\t2025-01-10\t300\n",
        "C2\t2025-01-02\t150\n",
        "C2\t2025-01-06\t120\n",
        "C3\t2025-01-03\t200\n",
        "C3\t2025-01-09\t250\n",
        "Expected Output\n",
        "customer_id\n",
        "C1\n",
        "C3\n",
        "</pre>"
      ],
      "metadata": {
        "id": "Rr1er5818-yO"
      }
    },
    {
      "cell_type": "code",
      "source": [
        "data = [(\"C1\"\t,\"2025-01-01\"\t,100),\n",
        "(\"C1\"\t,\"2025-01-05\"\t,200),\n",
        "(\"C1\"\t,\"2025-01-10\",\t300),\n",
        "(\"C2\",\t\"2025-01-02\"\t,150),\n",
        "(\"C2\"\t,\"2025-01-06\",\t120),\n",
        "(\"C3\"\t,\"2025-01-03\"\t,200),\n",
        "(\"C3\"\t,\"2025-01-09\",\t250)]\n",
        "schema = [\"customer_id\",\"purchase_date\",\"amount\"]\n",
        "purchases = spark.createDataFrame(data,schema)\n",
        "purchases = purchases.withColumn(\"purchase_date\",F.col('purchase_date').cast('date'))\n",
        "purchases.createOrReplaceTempView('purchases')"
      ],
      "metadata": {
        "id": "pw5WWPcd8qy0"
      },
      "execution_count": 13,
      "outputs": []
    },
    {
      "cell_type": "code",
      "source": [
        "result = spark.sql('''\n",
        "WITH diffs AS (\n",
        "  SELECT\n",
        "    customer_id,\n",
        "    purchase_date,\n",
        "    amount,\n",
        "    LAG(amount) OVER (PARTITION BY customer_id ORDER BY purchase_date) AS prev_amount\n",
        "  FROM purchases\n",
        "),\n",
        "\n",
        "valid_customers AS (\n",
        "  SELECT\n",
        "    customer_id,\n",
        "    MIN(CASE WHEN prev_amount IS NULL OR amount > prev_amount THEN 1 ELSE 0 END) AS all_increasing\n",
        "  FROM diffs\n",
        "  GROUP BY customer_id\n",
        ")\n",
        "\n",
        "SELECT customer_id\n",
        "FROM valid_customers\n",
        "WHERE all_increasing = 1;\n",
        "\n",
        "''')\n",
        "result.show()"
      ],
      "metadata": {
        "colab": {
          "base_uri": "https://localhost:8080/"
        },
        "id": "Z1wn49PC-vn6",
        "outputId": "b29bba8a-66dd-48a6-fbe3-e81f1baf43e7"
      },
      "execution_count": 15,
      "outputs": [
        {
          "output_type": "stream",
          "name": "stdout",
          "text": [
            "+-----------+\n",
            "|customer_id|\n",
            "+-----------+\n",
            "|         C1|\n",
            "|         C3|\n",
            "+-----------+\n",
            "\n"
          ]
        }
      ]
    },
    {
      "cell_type": "code",
      "source": [],
      "metadata": {
        "id": "VqeGiNXEBHzJ"
      },
      "execution_count": null,
      "outputs": []
    }
  ]
}