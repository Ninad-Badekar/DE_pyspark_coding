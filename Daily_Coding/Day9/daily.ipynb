{
 "cells": [
  {
   "cell_type": "markdown",
   "id": "25e5bd44",
   "metadata": {},
   "source": [
    "## **Problem: Advanced User Session Analytics**\n",
    "\n",
    "A user login website tracks detailed user activities across sessions. For each user per day, you need to calculate:\n",
    "\n",
    "1. **Number of Logins** – Count of login events per day.\n",
    "2. **Session Times** – Duration of each session (between login and logout) per day.\n",
    "3. **Total Usage Time** – Sum of all session durations per day.\n",
    "4. **Average Usage Time** – Average session duration per day.\n",
    "5. **Most Used Device** – Device used most frequently per day.\n",
    "6. **Top Location** – Location from where the user accessed most events per day.\n",
    "7. **Unique Browsers** – Count of distinct browsers used per day.\n",
    "8. **Event Counts** – Count of each event type per day (stored separately).\n",
    "\n",
    "### **Additional Notes**\n",
    "\n",
    "* Events belong to different sessions identified by `session_id`.\n",
    "* A session starts at `login` and ends at `logout`. If no `logout`, assume session ends at **23:59:59** for that day.\n",
    "* Event types include: `login`, `logout`, `click`, `view`, `purchase`.\n",
    "\n",
    "---\n",
    "\n",
    "## **Sample Input from CSV file (Simplified)**\n",
    "\n",
    "| user\\_id | event\\_time         | event\\_type | device  | location | browser | session\\_id |\n",
    "| -------- | ------------------- | ----------- | ------- | -------- | ------- | ----------- |\n",
    "| U1       | 2025-08-27 09:00:00 | login       | mobile  | India    | Chrome  | S101        |\n",
    "| U1       | 2025-08-27 09:15:00 | click       | mobile  | India    | Chrome  | S101        |\n",
    "| U1       | 2025-08-27 09:45:00 | logout      | mobile  | India    | Chrome  | S101        |\n",
    "| U2       | 2025-08-27 10:00:00 | login       | desktop | USA      | Firefox | S202        |\n",
    "| U2       | 2025-08-27 10:30:00 | view        | desktop | USA      | Firefox | S202        |\n",
    "| U2       | 2025-08-27 11:00:00 | logout      | desktop | USA      | Firefox | S202        |\n",
    "\n",
    "---\n",
    "\n",
    "## **Expected Output 1: Main Metrics**\n",
    "\n",
    "| user\\_id | date       | num\\_logins | session\\_times(mins) | total\\_usage(mins) | avg\\_usage(mins) | most\\_device | top\\_location | unique\\_browsers |\n",
    "| -------- | ---------- | ----------- | -------------------- | ------------------ | ---------------- | ------------ | ------------- | ---------------- |\n",
    "| U1       | 2025-08-27 | 1           | \\[45]                | 45                 | 45.0             | mobile       | India         | 1                |\n",
    "| U2       | 2025-08-27 | 1           | \\[60]                | 60                 | 60.0             | desktop      | USA           | 1                |\n",
    "\n",
    "---\n",
    "\n",
    "## **Expected Output 2: Event Counts (Separate Table)**\n",
    "\n",
    "| user\\_id | date       | login\\_count | logout\\_count | click\\_count | view\\_count | purchase\\_count |\n",
    "| -------- | ---------- | ------------ | ------------- | ------------ | ----------- | --------------- |\n",
    "| U1       | 2025-08-27 | 1            | 1             | 1            | 0           | 0               |\n",
    "| U2       | 2025-08-27 | 1            | 1             | 0            | 1           | 0               |\n",
    "\n",
    "---"
   ]
  },
  {
   "cell_type": "code",
   "execution_count": 3,
   "id": "d6ddfea8",
   "metadata": {},
   "outputs": [],
   "source": [
    "from pyspark.sql import SparkSession\n",
    "from pyspark.sql import functions as F\n",
    "from pyspark.sql.window import Window"
   ]
  },
  {
   "cell_type": "code",
   "execution_count": 4,
   "id": "e5d67afa",
   "metadata": {},
   "outputs": [
    {
     "name": "stderr",
     "output_type": "stream",
     "text": [
      "25/09/02 11:06:06 WARN Utils: Your hostname, neosoft-Latitude-5420 resolves to a loopback address: 127.0.1.1; using 10.0.61.174 instead (on interface wlp0s20f3)\n",
      "25/09/02 11:06:06 WARN Utils: Set SPARK_LOCAL_IP if you need to bind to another address\n",
      "Setting default log level to \"WARN\".\n",
      "To adjust logging level use sc.setLogLevel(newLevel). For SparkR, use setLogLevel(newLevel).\n",
      "25/09/02 11:06:07 WARN NativeCodeLoader: Unable to load native-hadoop library for your platform... using builtin-java classes where applicable\n"
     ]
    }
   ],
   "source": [
    "spark = SparkSession.builder.appName(\"Daily-Day9\").getOrCreate()"
   ]
  },
  {
   "cell_type": "code",
   "execution_count": 5,
   "id": "2bf2c34c",
   "metadata": {},
   "outputs": [],
   "source": [
    "df = spark.read.option(\"header\",\"true\").csv(\"user_data.csv\")"
   ]
  },
  {
   "cell_type": "code",
   "execution_count": 6,
   "id": "7271950b",
   "metadata": {},
   "outputs": [],
   "source": [
    "df = df.withColumn(\"event_time\", F.col(\"event_time\").cast(\"timestamp\"))"
   ]
  },
  {
   "cell_type": "code",
   "execution_count": null,
   "id": "ef51afa2",
   "metadata": {},
   "outputs": [],
   "source": [
    "df = df.withColumn(\"date\", F.to_date(\"event_time\"))\n",
    "login_times = df.filter(F.col(\"event_type\") == \"login\") \\\n",
    "    .groupBy(\"user_id\", \"session_id\", \"date\") \\\n",
    "    .agg(F.min(\"event_time\").alias(\"login_time\"))\n",
    "\n",
    "logout_times = df.filter(F.col(\"event_type\") == \"logout\") \\\n",
    "    .groupBy(\"user_id\", \"session_id\", \"date\") \\\n",
    "    .agg(F.max(\"event_time\").alias(\"logout_time\"))\n",
    "\n",
    "sessions = login_times.join(logout_times, [\"user_id\", \"session_id\", \"date\"], \"left\")\n",
    "\n",
    "# If no logout → set to 23:59:59\n",
    "sessions = sessions.withColumn(\n",
    "    \"logout_time\",\n",
    "    F.when(F.col(\"logout_time\").isNull(), \n",
    "           F.concat_ws(\" \", F.col(\"date\"), F.lit(\"23:59:59\")).cast(\"timestamp\"))\n",
    "     .otherwise(F.col(\"logout_time\"))\n",
    ")\n",
    "\n",
    "sessions = sessions.withColumn(\n",
    "    \"session_duration\",\n",
    "    (F.unix_timestamp(\"logout_time\") - F.unix_timestamp(\"login_time\")) / 60\n",
    ")\n",
    "\n",
    "main_metrics = df.groupBy(\"user_id\", \"date\").agg(\n",
    "    F.count(F.when(F.col(\"event_type\")==\"login\", 1)).alias(\"num_logins\"),\n",
    "    F.expr(\"mode(device)\").alias(\"most_device\"),\n",
    "    F.expr(\"mode(location)\").alias(\"top_location\"),\n",
    "    F.countDistinct(\"browser\").alias(\"unique_browsers\")\n",
    ")\n",
    "\n",
    "session_aggs = sessions.groupBy(\"user_id\", \"date\").agg(\n",
    "    F.collect_list(\"session_duration\").alias(\"session_times\"),\n",
    "    F.sum(\"session_duration\").alias(\"total_usage\"),\n",
    "    F.avg(\"session_duration\").alias(\"avg_usage\")\n",
    ")\n",
    "\n",
    "main_metrics = main_metrics.join(session_aggs, [\"user_id\", \"date\"], \"left\")\n",
    "\n",
    "event_counts = df.groupBy(\"user_id\", \"date\").pivot(\"event_type\", \n",
    "        [\"login\", \"logout\", \"click\", \"view\", \"purchase\"]).count().fillna(0)\n",
    "\n",
    "event_counts = event_counts.withColumnRenamed(\"login\", \"login_count\") \\\n",
    "                           .withColumnRenamed(\"logout\", \"logout_count\") \\\n",
    "                           .withColumnRenamed(\"click\", \"click_count\") \\\n",
    "                           .withColumnRenamed(\"view\", \"view_count\") \\\n",
    "                           .withColumnRenamed(\"purchase\", \"purchase_count\")\n"
   ]
  },
  {
   "cell_type": "code",
   "execution_count": 14,
   "id": "9e9fafed",
   "metadata": {},
   "outputs": [
    {
     "name": "stdout",
     "output_type": "stream",
     "text": [
      "+-------+----------+----------+-----------+------------+---------------+--------------------+------------------+------------------+\n",
      "|user_id|      date|num_logins|most_device|top_location|unique_browsers|       session_times|       total_usage|         avg_usage|\n",
      "+-------+----------+----------+-----------+------------+---------------+--------------------+------------------+------------------+\n",
      "|     U1|2025-08-01|         0|     tablet|          UK|              2|                NULL|              NULL|              NULL|\n",
      "|     U1|2025-08-02|         1|     mobile|   Australia|              2|             [304.4]|             304.4|             304.4|\n",
      "|     U1|2025-08-04|         0|     tablet|   Australia|              1|                NULL|              NULL|              NULL|\n",
      "|     U1|2025-08-05|         0|     tablet|         USA|              1|                NULL|              NULL|              NULL|\n",
      "|     U1|2025-08-07|         0|     tablet|         USA|              1|                NULL|              NULL|              NULL|\n",
      "|     U1|2025-08-08|         1|    desktop|   Australia|              1|[492.96666666666664]|492.96666666666664|492.96666666666664|\n",
      "|     U1|2025-08-10|         0|     mobile|         USA|              1|                NULL|              NULL|              NULL|\n",
      "|     U1|2025-08-11|         0|     mobile|          UK|              1|                NULL|              NULL|              NULL|\n",
      "|     U1|2025-08-12|         0|    desktop|       India|              2|                NULL|              NULL|              NULL|\n",
      "|     U1|2025-08-15|         0|     mobile|         USA|              1|                NULL|              NULL|              NULL|\n",
      "|     U1|2025-08-22|         1|     tablet|          UK|              2|[240.71666666666667]|240.71666666666667|240.71666666666667|\n",
      "|     U1|2025-08-24|         0|     mobile|         USA|              1|                NULL|              NULL|              NULL|\n",
      "|     U1|2025-08-25|         1|    desktop|          UK|              1|[235.48333333333332]|235.48333333333332|235.48333333333332|\n",
      "|     U1|2025-08-26|         1|     tablet|   Australia|              1|            [325.35]|            325.35|            325.35|\n",
      "|    U10|2025-08-02|         0|     tablet|       India|              1|                NULL|              NULL|              NULL|\n",
      "|    U10|2025-08-03|         0|     mobile|       India|              2|                NULL|              NULL|              NULL|\n",
      "|    U10|2025-08-04|         0|     mobile|       India|              1|                NULL|              NULL|              NULL|\n",
      "|    U10|2025-08-06|         0|     mobile|       India|              1|                NULL|              NULL|              NULL|\n",
      "|    U10|2025-08-07|         1|    desktop|          UK|              2| [817.8666666666667]| 817.8666666666667| 817.8666666666667|\n",
      "|    U10|2025-08-09|         0|    desktop|          UK|              2|                NULL|              NULL|              NULL|\n",
      "+-------+----------+----------+-----------+------------+---------------+--------------------+------------------+------------------+\n",
      "only showing top 20 rows\n",
      "\n"
     ]
    }
   ],
   "source": [
    "main_metrics.show()"
   ]
  },
  {
   "cell_type": "code",
   "execution_count": 15,
   "id": "aa07329e",
   "metadata": {},
   "outputs": [
    {
     "name": "stdout",
     "output_type": "stream",
     "text": [
      "+-------+----------+-----------+------------+-----------+----------+--------------+\n",
      "|user_id|      date|login_count|logout_count|click_count|view_count|purchase_count|\n",
      "+-------+----------+-----------+------------+-----------+----------+--------------+\n",
      "|    U43|2025-08-06|          2|           3|          0|         0|             0|\n",
      "|    U31|2025-08-16|          1|           0|          0|         1|             1|\n",
      "|    U17|2025-08-14|          0|           0|          0|         0|             1|\n",
      "|     U8|2025-08-25|          0|           1|          0|         0|             1|\n",
      "|     U9|2025-08-22|          1|           0|          0|         0|             0|\n",
      "|    U39|2025-08-28|          1|           0|          0|         0|             0|\n",
      "|    U29|2025-08-04|          0|           0|          0|         0|             2|\n",
      "|    U38|2025-08-03|          0|           1|          0|         0|             0|\n",
      "|    U49|2025-08-03|          1|           0|          0|         0|             0|\n",
      "|    U19|2025-08-03|          0|           1|          1|         1|             0|\n",
      "|    U19|2025-08-27|          1|           0|          0|         1|             1|\n",
      "|     U6|2025-08-25|          1|           0|          0|         0|             0|\n",
      "|    U25|2025-08-12|          2|           1|          1|         0|             0|\n",
      "|    U39|2025-08-13|          0|           1|          0|         1|             0|\n",
      "|    U35|2025-08-11|          0|           0|          0|         0|             1|\n",
      "|    U16|2025-08-16|          0|           0|          1|         2|             1|\n",
      "|    U29|2025-08-12|          0|           0|          1|         0|             0|\n",
      "|    U32|2025-08-21|          0|           0|          1|         1|             0|\n",
      "|    U12|2025-08-24|          0|           0|          0|         1|             0|\n",
      "|    U39|2025-08-17|          1|           0|          0|         0|             0|\n",
      "+-------+----------+-----------+------------+-----------+----------+--------------+\n",
      "only showing top 20 rows\n",
      "\n"
     ]
    }
   ],
   "source": [
    "event_counts.show()"
   ]
  },
  {
   "cell_type": "code",
   "execution_count": null,
   "id": "6c0f5ce5",
   "metadata": {},
   "outputs": [],
   "source": []
  }
 ],
 "metadata": {
  "kernelspec": {
   "display_name": "Python 3",
   "language": "python",
   "name": "python3"
  },
  "language_info": {
   "codemirror_mode": {
    "name": "ipython",
    "version": 3
   },
   "file_extension": ".py",
   "mimetype": "text/x-python",
   "name": "python",
   "nbconvert_exporter": "python",
   "pygments_lexer": "ipython3",
   "version": "3.8.10"
  }
 },
 "nbformat": 4,
 "nbformat_minor": 5
}
