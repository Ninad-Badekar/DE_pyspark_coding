{
 "cells": [
  {
   "cell_type": "markdown",
   "id": "25e5bd44",
   "metadata": {},
   "source": [
    "## **Problem: Advanced User Session Analytics**\n",
    "\n",
    "A user login website tracks detailed user activities across sessions. For each user per day, you need to calculate:\n",
    "\n",
    "1. **Number of Logins** – Count of login events per day.\n",
    "2. **Session Times** – Duration of each session (between login and logout) per day.\n",
    "3. **Total Usage Time** – Sum of all session durations per day.\n",
    "4. **Average Usage Time** – Average session duration per day.\n",
    "5. **Most Used Device** – Device used most frequently per day.\n",
    "6. **Top Location** – Location from where the user accessed most events per day.\n",
    "7. **Unique Browsers** – Count of distinct browsers used per day.\n",
    "8. **Event Counts** – Count of each event type per day (stored separately).\n",
    "\n",
    "### **Additional Notes**\n",
    "\n",
    "* Events belong to different sessions identified by `session_id`.\n",
    "* A session starts at `login` and ends at `logout`. If no `logout`, assume session ends at **23:59:59** for that day.\n",
    "* Event types include: `login`, `logout`, `click`, `view`, `purchase`.\n",
    "\n",
    "---\n",
    "\n",
    "## **Sample Input from CSV file (Simplified)**\n",
    "\n",
    "| user\\_id | event\\_time         | event\\_type | device  | location | browser | session\\_id |\n",
    "| -------- | ------------------- | ----------- | ------- | -------- | ------- | ----------- |\n",
    "| U1       | 2025-08-27 09:00:00 | login       | mobile  | India    | Chrome  | S101        |\n",
    "| U1       | 2025-08-27 09:15:00 | click       | mobile  | India    | Chrome  | S101        |\n",
    "| U1       | 2025-08-27 09:45:00 | logout      | mobile  | India    | Chrome  | S101        |\n",
    "| U2       | 2025-08-27 10:00:00 | login       | desktop | USA      | Firefox | S202        |\n",
    "| U2       | 2025-08-27 10:30:00 | view        | desktop | USA      | Firefox | S202        |\n",
    "| U2       | 2025-08-27 11:00:00 | logout      | desktop | USA      | Firefox | S202        |\n",
    "\n",
    "---\n",
    "\n",
    "## **Expected Output 1: Main Metrics**\n",
    "\n",
    "| user\\_id | date       | num\\_logins | session\\_times(mins) | total\\_usage(mins) | avg\\_usage(mins) | most\\_device | top\\_location | unique\\_browsers |\n",
    "| -------- | ---------- | ----------- | -------------------- | ------------------ | ---------------- | ------------ | ------------- | ---------------- |\n",
    "| U1       | 2025-08-27 | 1           | \\[45]                | 45                 | 45.0             | mobile       | India         | 1                |\n",
    "| U2       | 2025-08-27 | 1           | \\[60]                | 60                 | 60.0             | desktop      | USA           | 1                |\n",
    "\n",
    "---\n",
    "\n",
    "## **Expected Output 2: Event Counts (Separate Table)**\n",
    "\n",
    "| user\\_id | date       | login\\_count | logout\\_count | click\\_count | view\\_count | purchase\\_count |\n",
    "| -------- | ---------- | ------------ | ------------- | ------------ | ----------- | --------------- |\n",
    "| U1       | 2025-08-27 | 1            | 1             | 1            | 0           | 0               |\n",
    "| U2       | 2025-08-27 | 1            | 1             | 0            | 1           | 0               |\n",
    "\n",
    "---"
   ]
  },
  {
   "cell_type": "code",
   "execution_count": 1,
   "id": "d6ddfea8",
   "metadata": {},
   "outputs": [],
   "source": [
    "from pyspark.sql import SparkSession\n",
    "from pyspark.sql import functions as F\n",
    "from pyspark.sql.window import Window"
   ]
  },
  {
   "cell_type": "code",
   "execution_count": 2,
   "id": "e5d67afa",
   "metadata": {},
   "outputs": [
    {
     "name": "stderr",
     "output_type": "stream",
     "text": [
      "25/09/01 18:53:42 WARN Utils: Your hostname, neosoft-Latitude-5420 resolves to a loopback address: 127.0.1.1; using 10.0.61.174 instead (on interface wlp0s20f3)\n",
      "25/09/01 18:53:42 WARN Utils: Set SPARK_LOCAL_IP if you need to bind to another address\n",
      "Setting default log level to \"WARN\".\n",
      "To adjust logging level use sc.setLogLevel(newLevel). For SparkR, use setLogLevel(newLevel).\n",
      "25/09/01 18:53:42 WARN NativeCodeLoader: Unable to load native-hadoop library for your platform... using builtin-java classes where applicable\n"
     ]
    }
   ],
   "source": [
    "spark = SparkSession.builder.appName(\"Daily-Day9\").getOrCreate()"
   ]
  },
  {
   "cell_type": "code",
   "execution_count": 3,
   "id": "2bf2c34c",
   "metadata": {},
   "outputs": [],
   "source": [
    "df = spark.read.option(\"header\",\"true\").csv(\"user_data.csv\")"
   ]
  },
  {
   "cell_type": "code",
   "execution_count": 5,
   "id": "7271950b",
   "metadata": {},
   "outputs": [],
   "source": [
    "df = df.withColumn(\"event_time\", F.col(\"event_time\").cast(\"timestamp\"))"
   ]
  },
  {
   "cell_type": "code",
   "execution_count": 8,
   "id": "79b261d3",
   "metadata": {},
   "outputs": [
    {
     "name": "stdout",
     "output_type": "stream",
     "text": [
      "+-------+-------------------+----------+-------+---------+-------+----------+----------+----------+\n",
      "|user_id|         event_time|event_type| device| location|browser|session_id|      date|num_logins|\n",
      "+-------+-------------------+----------+-------+---------+-------+----------+----------+----------+\n",
      "|     U1|2025-08-02 18:55:35|     login| mobile|Australia|   Edge|     S8333|2025-08-02|         1|\n",
      "|     U1|2025-08-08 15:47:01|     login|desktop|Australia| Safari|     S9952|2025-08-08|         1|\n",
      "|     U1|2025-08-22 19:59:16|     login|desktop|       UK|Firefox|     S1298|2025-08-22|         1|\n",
      "|     U1|2025-08-25 20:04:30|     login|desktop|       UK|   Edge|     S4541|2025-08-25|         1|\n",
      "|     U1|2025-08-26 18:34:38|     login| tablet|Australia|   Edge|     S4014|2025-08-26|         1|\n",
      "|    U10|2025-08-07 10:22:07|     login|desktop|      USA|Firefox|     S4146|2025-08-07|         1|\n",
      "|    U10|2025-08-10 18:21:04|     login| mobile|      USA| Chrome|     S3050|2025-08-10|         1|\n",
      "|    U10|2025-08-11 04:06:22|     login|desktop|       UK| Chrome|     S1566|2025-08-11|         1|\n",
      "|    U10|2025-08-19 09:53:44|     login| tablet|      USA| Chrome|     S4658|2025-08-19|         1|\n",
      "|    U11|2025-08-28 02:37:59|     login| tablet|   Canada| Safari|     S2618|2025-08-28|         1|\n",
      "|    U12|2025-08-11 18:28:45|     login|desktop|    India| Safari|     S4245|2025-08-11|         2|\n",
      "|    U12|2025-08-11 10:18:07|     login| tablet|Australia|  Opera|     S4932|2025-08-11|         2|\n",
      "|    U12|2025-08-12 08:30:59|     login|desktop|       UK|   Edge|     S7133|2025-08-12|         2|\n",
      "|    U12|2025-08-12 20:33:48|     login| mobile|Australia|Firefox|     S8201|2025-08-12|         2|\n",
      "|    U12|2025-08-16 22:15:58|     login|desktop|Australia| Chrome|     S8309|2025-08-16|         1|\n",
      "|    U12|2025-08-21 19:19:59|     login| tablet|       UK| Safari|     S5870|2025-08-21|         1|\n",
      "|    U12|2025-08-23 10:13:22|     login| tablet|   Canada|  Opera|     S7325|2025-08-23|         1|\n",
      "|    U13|2025-08-02 23:46:46|     login| tablet|    India|   Edge|     S1540|2025-08-02|         1|\n",
      "|    U13|2025-08-03 05:16:02|     login| tablet|       UK|   Edge|     S8448|2025-08-03|         1|\n",
      "|    U13|2025-08-09 21:55:09|     login| mobile|    India|   Edge|     S2296|2025-08-09|         1|\n",
      "+-------+-------------------+----------+-------+---------+-------+----------+----------+----------+\n",
      "only showing top 20 rows\n",
      "\n"
     ]
    }
   ],
   "source": [
    "transform = df.withColumn('date', F.to_date(F.col('event_time'), 'yyyy-MM-dd'))\n",
    "login_wind = Window.partitionBy('user_id','date')\n",
    "num_logins = transform.filter(F.col('event_type')=='login')\n",
    "num_logins = num_logins.withColumn('num_logins', F.count('event_type').over(login_wind))\n",
    "num_logins.show()"
   ]
  },
  {
   "cell_type": "code",
   "execution_count": 13,
   "id": "4d60ec23",
   "metadata": {},
   "outputs": [
    {
     "name": "stdout",
     "output_type": "stream",
     "text": [
      "+-------+-------------------+----------+-------+---------+-------+----------+----------+\n",
      "|user_id|         event_time|event_type| device| location|browser|session_id|      date|\n",
      "+-------+-------------------+----------+-------+---------+-------+----------+----------+\n",
      "|    U21|2025-08-12 16:17:06|  purchase|desktop|Australia| Chrome|     S9440|2025-08-12|\n",
      "|     U2|2025-08-12 04:31:21|  purchase| tablet|Australia|Firefox|     S9876|2025-08-12|\n",
      "|    U18|2025-08-17 14:03:12|  purchase|desktop|    India|Firefox|     S7075|2025-08-17|\n",
      "|    U45|2025-08-20 01:56:42|      view|desktop|Australia| Safari|     S7144|2025-08-20|\n",
      "|    U21|2025-08-25 19:31:51|     login| mobile|   Canada| Safari|     S3814|2025-08-25|\n",
      "|     U3|2025-08-13 12:16:10|     click|desktop|Australia|Firefox|     S6097|2025-08-13|\n",
      "|     U5|2025-08-02 05:58:30|    logout| tablet|    India|  Opera|     S2232|2025-08-02|\n",
      "|    U19|2025-08-21 04:21:33|  purchase| tablet|      USA| Safari|     S7053|2025-08-21|\n",
      "|     U5|2025-08-21 19:18:40|     login| tablet|Australia|  Opera|     S8274|2025-08-21|\n",
      "|    U50|2025-08-01 14:36:09|  purchase| tablet|    India|   Edge|     S6611|2025-08-01|\n",
      "|    U21|2025-08-07 12:04:33|     click| tablet|Australia|Firefox|     S7261|2025-08-07|\n",
      "|     U6|2025-08-23 04:20:13|     login| mobile|   Canada|  Opera|     S6102|2025-08-23|\n",
      "|     U2|2025-08-16 00:27:15|    logout| mobile|Australia| Safari|     S9693|2025-08-16|\n",
      "|    U10|2025-08-14 06:47:32|      view|desktop|       UK|   Edge|     S3109|2025-08-14|\n",
      "|    U33|2025-08-12 10:19:44|    logout| tablet|    India|   Edge|     S4664|2025-08-12|\n",
      "|    U39|2025-08-10 01:58:28|     login| tablet|Australia|   Edge|     S5201|2025-08-10|\n",
      "|    U35|2025-08-04 09:22:59|      view| tablet|Australia|   Edge|     S9812|2025-08-04|\n",
      "|    U27|2025-08-19 04:03:32|  purchase| mobile|       UK|   Edge|     S9089|2025-08-19|\n",
      "|    U47|2025-08-16 04:48:14|     login| tablet|       UK|Firefox|     S6267|2025-08-16|\n",
      "|    U46|2025-08-17 16:00:18|     login|desktop|      USA| Chrome|     S6524|2025-08-17|\n",
      "+-------+-------------------+----------+-------+---------+-------+----------+----------+\n",
      "only showing top 20 rows\n",
      "\n"
     ]
    }
   ],
   "source": [
    "transform.show()"
   ]
  },
  {
   "cell_type": "code",
   "execution_count": 27,
   "id": "b6e5c354",
   "metadata": {},
   "outputs": [
    {
     "name": "stdout",
     "output_type": "stream",
     "text": [
      "+-------+----------+-------+----------------+----+\n",
      "|user_id|      date| device|most_used_device|rank|\n",
      "+-------+----------+-------+----------------+----+\n",
      "|     U1|2025-08-01| mobile|               1|   1|\n",
      "|     U1|2025-08-02| mobile|               2|   1|\n",
      "|     U1|2025-08-04| tablet|               1|   1|\n",
      "|     U1|2025-08-05| tablet|               1|   1|\n",
      "|     U1|2025-08-07| tablet|               1|   1|\n",
      "|     U1|2025-08-08|desktop|               1|   1|\n",
      "|     U1|2025-08-10| mobile|               1|   1|\n",
      "|     U1|2025-08-11| mobile|               1|   1|\n",
      "|     U1|2025-08-12|desktop|               1|   1|\n",
      "|     U1|2025-08-15| mobile|               1|   1|\n",
      "|     U1|2025-08-22|desktop|               1|   1|\n",
      "|     U1|2025-08-24| mobile|               1|   1|\n",
      "|     U1|2025-08-25|desktop|               1|   1|\n",
      "|     U1|2025-08-26| tablet|               1|   1|\n",
      "|    U10|2025-08-02| tablet|               1|   1|\n",
      "|    U10|2025-08-03| mobile|               2|   1|\n",
      "|    U10|2025-08-04| mobile|               1|   1|\n",
      "|    U10|2025-08-06| mobile|               1|   1|\n",
      "|    U10|2025-08-07|desktop|               3|   1|\n",
      "|    U10|2025-08-09|desktop|               1|   1|\n",
      "+-------+----------+-------+----------------+----+\n",
      "only showing top 20 rows\n",
      "\n"
     ]
    }
   ],
   "source": [
    "most_used = transform.groupBy('user_id','date','device').agg(F.count('*').alias('most_used_device'))\n",
    "# most_used.take(most_used.count())\n",
    "most_used = most_used.withColumn('rank', F.row_number().over(Window.partitionBy('user_id','date').orderBy(F.desc('most_used_device'))))\n",
    "# most_used.show()\n",
    "most_used = most_used.filter(F.col('rank')==1)\n",
    "most_used.show()"
   ]
  },
  {
   "cell_type": "code",
   "execution_count": null,
   "id": "3f87639a",
   "metadata": {},
   "outputs": [],
   "source": []
  }
 ],
 "metadata": {
  "kernelspec": {
   "display_name": "Python 3",
   "language": "python",
   "name": "python3"
  },
  "language_info": {
   "codemirror_mode": {
    "name": "ipython",
    "version": 3
   },
   "file_extension": ".py",
   "mimetype": "text/x-python",
   "name": "python",
   "nbconvert_exporter": "python",
   "pygments_lexer": "ipython3",
   "version": "3.8.10"
  }
 },
 "nbformat": 4,
 "nbformat_minor": 5
}
