{
  "nbformat": 4,
  "nbformat_minor": 0,
  "metadata": {
    "colab": {
      "provenance": []
    },
    "kernelspec": {
      "name": "python3",
      "display_name": "Python 3"
    },
    "language_info": {
      "name": "python"
    }
  },
  "cells": [
    {
      "cell_type": "markdown",
      "source": [
        "<pre>\n",
        "Problem Statement\n",
        "\n",
        "You have a PySpark DataFrame containing daily sales data for multiple products.\n",
        "Write a PySpark program to find the date with the highest sales for each product.\n",
        "Sample Input (product_sales)\n",
        "product \tsale_date \tsales\n",
        "Laptop \t2025-01-01 \t100\n",
        "Laptop \t2025-01-02 \t250\n",
        "Laptop \t2025-01-03 \t200\n",
        "Phone \t2025-01-01 \t300\n",
        "Phone \t2025-01-02 \t150\n",
        "Phone \t2025-01-03 \t400\n",
        "Expected Output\n",
        "product \tpeak_sale_date \tpeak_sales\n",
        "Laptop \t2025-01-02 \t250\n",
        "Phone \t2025-01-03 \t400\n",
        "<pre>"
      ],
      "metadata": {
        "id": "T3xHONdFyTic"
      }
    },
    {
      "cell_type": "code",
      "execution_count": 2,
      "metadata": {
        "id": "ig-j39EUyQ0a"
      },
      "outputs": [],
      "source": [
        "from pyspark.sql import SparkSession\n",
        "from pyspark.sql import functions as F\n",
        "from pyspark.sql.window import Window"
      ]
    },
    {
      "cell_type": "code",
      "source": [
        "spark = SparkSession.builder.appName('Daily-Day13').getOrCreate()\n",
        "data = [\n",
        "(\"Laptop\",\"2025-01-01\",100),\n",
        "(\"Laptop\",\"2025-01-02\",250),\n",
        "(\"Laptop\",\"2025-01-03\",200),\n",
        "(\"Phone\",\"2025-01-01\",300),\n",
        "(\"Phone\",\"2025-01-02\",150),\n",
        "(\"Phone\",\"2025-01-03\",400)]\n",
        "schema = [\"product\",\"sale_date\",\"sales\"]\n",
        "df = spark.createDataFrame(data,schema)\n",
        "df = df.withColumn('sale_date',F.to_date(F.col('sale_date'),\"yyyy-MM-dd\"))"
      ],
      "metadata": {
        "id": "D-Izo4O0yfYa"
      },
      "execution_count": 5,
      "outputs": []
    },
    {
      "cell_type": "code",
      "source": [
        "df.show()"
      ],
      "metadata": {
        "colab": {
          "base_uri": "https://localhost:8080/"
        },
        "id": "vXh483lkznGs",
        "outputId": "8f11a1f2-a039-421e-b7f6-db0955217833"
      },
      "execution_count": 6,
      "outputs": [
        {
          "output_type": "stream",
          "name": "stdout",
          "text": [
            "+-------+----------+-----+\n",
            "|product| sale_date|sales|\n",
            "+-------+----------+-----+\n",
            "| Laptop|2025-01-01|  100|\n",
            "| Laptop|2025-01-02|  250|\n",
            "| Laptop|2025-01-03|  200|\n",
            "|  Phone|2025-01-01|  300|\n",
            "|  Phone|2025-01-02|  150|\n",
            "|  Phone|2025-01-03|  400|\n",
            "+-------+----------+-----+\n",
            "\n"
          ]
        }
      ]
    },
    {
      "cell_type": "code",
      "source": [
        "wd = Window.partitionBy('product').orderBy(F.col('sales').desc())\n",
        "peak_sales_df = df.withColumn('rank',F.dense_rank().over(wd)).filter(F.col('rank')==1)\\\n",
        "                  .select(F.col('product'),F.col('sale_date').alias('peak_sale_date'),F.col('sales').alias('peak_sales'))\n",
        "peak_sales_df.show()"
      ],
      "metadata": {
        "colab": {
          "base_uri": "https://localhost:8080/"
        },
        "id": "ODu-qQJ4z854",
        "outputId": "0ed80bd7-c628-4519-9f6f-ae6cf6076a18"
      },
      "execution_count": 10,
      "outputs": [
        {
          "output_type": "stream",
          "name": "stdout",
          "text": [
            "+-------+--------------+----------+\n",
            "|product|peak_sale_date|peak_sales|\n",
            "+-------+--------------+----------+\n",
            "| Laptop|    2025-01-02|       250|\n",
            "|  Phone|    2025-01-03|       400|\n",
            "+-------+--------------+----------+\n",
            "\n"
          ]
        }
      ]
    },
    {
      "cell_type": "markdown",
      "source": [
        "<pre>\n",
        "You have a SQL table daily_product_sales(product_id, sale_date, sales) with\n",
        "daily sales for each product.Write a SQL query to\n",
        "find products where sales decreased compared to the\n",
        "previous day.\n",
        "Sample Input (daily_product_sales)\n",
        "product_id \tsale_date \tsales\n",
        "P1 \t2025-01-01 \t100\n",
        "P1 \t2025-01-02 \t120\n",
        "P1 \t2025-01-03 \t90\n",
        "P2 \t2025-01-01 \t200\n",
        "P2 \t2025-01-02 \t180\n",
        "P2 \t2025-01-03 \t220\n",
        "Expected Output\n",
        "product_id \tsale_date \tsales \tprevious_day_sales\n",
        "P1 \t2025-01-03 \t90 \t120\n",
        "P2 \t2025-01-02 \t180 \t200\n",
        "</pre>"
      ],
      "metadata": {
        "id": "iiJgbrAA1LdU"
      }
    },
    {
      "cell_type": "code",
      "source": [
        "data = [\n",
        "    (\"P1\", \"2025-01-01\", 100),\n",
        "    (\"P1\", \"2025-01-02\", 120),\n",
        "    (\"P1\", \"2025-01-03\", 90),\n",
        "    (\"P2\", \"2025-01-01\", 200),\n",
        "    (\"P2\", \"2025-01-02\", 180),\n",
        "    (\"P2\", \"2025-01-03\", 220),\n",
        "]\n",
        "columns = [\"product_id\", \"sale_date\", \"sales\"]\n",
        "df = spark.createDataFrame(data, columns)\n",
        "df = df.withColumn(\"sale_date\",F.to_date(F.col('sale_date'),\"yyyy-mm-DD\"))\n",
        "df.show()"
      ],
      "metadata": {
        "colab": {
          "base_uri": "https://localhost:8080/"
        },
        "id": "4vFzIPcgz_ZC",
        "outputId": "fbf2f70f-2ddc-4e71-bb91-f935bec1ef36"
      },
      "execution_count": 14,
      "outputs": [
        {
          "output_type": "stream",
          "name": "stdout",
          "text": [
            "+----------+----------+-----+\n",
            "|product_id| sale_date|sales|\n",
            "+----------+----------+-----+\n",
            "|        P1|2025-01-01|  100|\n",
            "|        P1|2025-01-02|  120|\n",
            "|        P1|2025-01-03|   90|\n",
            "|        P2|2025-01-01|  200|\n",
            "|        P2|2025-01-02|  180|\n",
            "|        P2|2025-01-03|  220|\n",
            "+----------+----------+-----+\n",
            "\n"
          ]
        }
      ]
    },
    {
      "cell_type": "code",
      "source": [
        "df.createOrReplaceTempView('products')"
      ],
      "metadata": {
        "id": "HbqjRkA71w1Z"
      },
      "execution_count": 15,
      "outputs": []
    },
    {
      "cell_type": "code",
      "source": [
        "spark.sql('''\n",
        "WITH previous as(\n",
        "    SELECT product_id , sale_date,sales,LAG(sales,1) OVER (partition by product_id order by sale_date) as previous_sales\n",
        "    FROM products)\n",
        "SELECT  * from previous where previous_sales > sales\n",
        "\n",
        "''').show()"
      ],
      "metadata": {
        "colab": {
          "base_uri": "https://localhost:8080/"
        },
        "id": "jQeqEWYu19t7",
        "outputId": "8deb2e6f-e313-4725-8c89-65ad06345022"
      },
      "execution_count": 21,
      "outputs": [
        {
          "output_type": "stream",
          "name": "stdout",
          "text": [
            "+----------+----------+-----+--------------+\n",
            "|product_id| sale_date|sales|previous_sales|\n",
            "+----------+----------+-----+--------------+\n",
            "|        P1|2025-01-03|   90|           120|\n",
            "|        P2|2025-01-02|  180|           200|\n",
            "+----------+----------+-----+--------------+\n",
            "\n"
          ]
        }
      ]
    },
    {
      "cell_type": "code",
      "source": [],
      "metadata": {
        "id": "z48iOkAE2AIH"
      },
      "execution_count": null,
      "outputs": []
    }
  ]
}