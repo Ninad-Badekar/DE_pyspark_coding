{
  "nbformat": 4,
  "nbformat_minor": 0,
  "metadata": {
    "colab": {
      "provenance": []
    },
    "kernelspec": {
      "name": "python3",
      "display_name": "Python 3"
    },
    "language_info": {
      "name": "python"
    }
  },
  "cells": [
    {
      "cell_type": "markdown",
      "source": [
        "## **Problem Scenario: Online Learning Engagement Analysis**\n",
        "\n",
        "### **Background**\n",
        "\n",
        "You are working for an online learning platform (like Coursera or Udemy).\n",
        "The platform tracks student activities such as **logins, watching videos, attempting quizzes, completing courses, and forum participation** across multiple courses and devices.\n",
        "\n",
        "However, the raw data contains:\n",
        "\n",
        "* Missing device/location information\n",
        "* Multiple activity types per student per day\n",
        "* Varying engagement durations for different activities\n",
        "\n",
        "The company wants **daily engagement analytics** and **course-level insights** for product and academic teams.\n",
        "\n",
        "---\n",
        "\n",
        "## **Business Objectives**\n",
        "\n",
        "1. **Daily Engagement Metrics**\n",
        "\n",
        "   * Total active students per day\n",
        "   * Total activities per day\n",
        "   * Average session duration per day\n",
        "   * Device and location distribution\n",
        "\n",
        "2. **Course-Level Analytics**\n",
        "\n",
        "   * Course completion rates\n",
        "   * Top 5 courses by engagement time\n",
        "   * Unique students per course per day\n",
        "\n",
        "3. **Student Behavior Metrics**\n",
        "\n",
        "   * Average time spent per student per day\n",
        "   * Number of quizzes attempted per student\n",
        "   * Students completing at least 1 course per week\n",
        "\n",
        "---\n",
        "\n",
        "## **Sample Input Table (Simplified)**\n",
        "\n",
        "| activity\\_id | student\\_id | course\\_id | activity\\_type   | activity\\_time      | device  | location | duration\\_minutes |\n",
        "| ------------ | ----------- | ---------- | ---------------- | ------------------- | ------- | -------- | ----------------- |\n",
        "| A123456      | S1          | C2         | Login            | 2025-08-20 09:15:00 | Mobile  | USA      |                   |\n",
        "| A234567      | S1          | C2         | Watch\\_Video     | 2025-08-20 09:30:00 | Mobile  | USA      | 20                |\n",
        "| A345678      | S2          | C3         | Attempt\\_Quiz    | 2025-08-20 10:00:00 | Desktop | India    | 15                |\n",
        "| A456789      | S3          | C5         | Complete\\_Course | 2025-08-20 11:00:00 | Tablet  | UK       |                   |\n",
        "| A567890      | S1          | C2         | Forum\\_Post      | 2025-08-20 11:20:00 | Mobile  | USA      |                   |\n",
        "\n",
        "---\n",
        "\n",
        "## **Expected Output 1 – Daily Engagement Metrics**\n",
        "\n",
        "| date       | total\\_activities | unique\\_students | avg\\_duration\\_per\\_activity | top\\_device | top\\_location |\n",
        "| ---------- | ----------------- | ---------------- | ---------------------------- | ----------- | ------------- |\n",
        "| 2025-08-20 | 400               | 120              | 18.5 mins                    | Mobile      | India         |\n",
        "| 2025-08-21 | 390               | 118              | 17.2 mins                    | Desktop     | USA           |\n",
        "\n",
        "---\n",
        "\n",
        "## **Expected Output 2 – Course-Level Analytics**\n",
        "\n",
        "| date       | course\\_id | completion\\_rate(%) | total\\_time\\_spent | unique\\_students |\n",
        "| ---------- | ---------- | ------------------- | ------------------ | ---------------- |\n",
        "| 2025-08-20 | C2         | 35%                 | 1200 mins          | 45               |\n",
        "| 2025-08-20 | C3         | 28%                 | 850 mins           | 38               |\n",
        "| 2025-08-20 | C5         | 40%                 | 600 mins           | 20               |\n",
        "\n",
        "---\n",
        "\n",
        "## **Expected Output 3 – Student Behavior Metrics**\n",
        "\n",
        "| student\\_id | date       | total\\_time\\_spent | quizzes\\_attempted | courses\\_completed |\n",
        "| ----------- | ---------- | ------------------ | ------------------ | ------------------ |\n",
        "| S1          | 2025-08-20 | 250 mins           | 2                  | 1                  |\n",
        "| S2          | 2025-08-20 | 180 mins           | 1                  | 0                  |\n",
        "| S3          | 2025-08-20 | 75 mins            | 0                  | 1                  |\n",
        "\n",
        "---\n",
        "\n",
        "This scenario mimics **real-world complexity** with:\n",
        "\n",
        "* Missing values handling\n",
        "* Per-day, per-course, and per-student aggregations\n",
        "* Multiple dimensions like device, location, and activity types\n",
        "\n",
        "---"
      ],
      "metadata": {
        "id": "kHZ3wjMH-X0q"
      }
    },
    {
      "cell_type": "code",
      "source": [
        "from pyspark.sql import SparkSession\n",
        "from pyspark.sql import functions as F\n",
        "spark = SparkSession.builder.appName('Daily-Day12').getOrCreate()"
      ],
      "metadata": {
        "id": "XZh2VWEk7uEv"
      },
      "execution_count": 7,
      "outputs": []
    },
    {
      "cell_type": "code",
      "execution_count": 8,
      "metadata": {
        "id": "UnLVG0OK6_xO"
      },
      "outputs": [],
      "source": [
        "df = spark.read.option('header','true').option('inferSchema','true').csv('/content/sample_data/data/learning.csv')"
      ]
    },
    {
      "cell_type": "code",
      "source": [
        "df.printSchema()"
      ],
      "metadata": {
        "colab": {
          "base_uri": "https://localhost:8080/"
        },
        "id": "prnavzDY78Y3",
        "outputId": "158bfd06-51d2-4e03-9537-341c2b6ae26c"
      },
      "execution_count": 5,
      "outputs": [
        {
          "output_type": "stream",
          "name": "stdout",
          "text": [
            "root\n",
            " |-- activity_id: string (nullable = true)\n",
            " |-- student_id: string (nullable = true)\n",
            " |-- course_id: string (nullable = true)\n",
            " |-- activity_type: string (nullable = true)\n",
            " |-- activity_time: timestamp (nullable = true)\n",
            " |-- device: string (nullable = true)\n",
            " |-- location: string (nullable = true)\n",
            " |-- duration_minutes: double (nullable = true)\n",
            "\n"
          ]
        }
      ]
    },
    {
      "cell_type": "code",
      "source": [
        "null_counts = df.select([F.count(F.when(F.col(c).isNull(),c)).alias(c) for c in df.columns])\n",
        "null_counts.show()"
      ],
      "metadata": {
        "colab": {
          "base_uri": "https://localhost:8080/"
        },
        "id": "nm3XbmNn8KHY",
        "outputId": "b0f402cb-647b-465c-dff2-ae0ee98c204a"
      },
      "execution_count": 11,
      "outputs": [
        {
          "output_type": "stream",
          "name": "stdout",
          "text": [
            "+-----------+----------+---------+-------------+-------------+------+--------+----------------+\n",
            "|activity_id|student_id|course_id|activity_type|activity_time|device|location|duration_minutes|\n",
            "+-----------+----------+---------+-------------+-------------+------+--------+----------------+\n",
            "|          0|         0|        0|            0|            0|    65|      63|            1677|\n",
            "+-----------+----------+---------+-------------+-------------+------+--------+----------------+\n",
            "\n"
          ]
        }
      ]
    },
    {
      "cell_type": "code",
      "source": [
        "df_filled = df.fillna({\n",
        "    \"activity_id\": 0,\n",
        "    \"student_id\": 0,\n",
        "    \"course_id\": 0,\n",
        "    \"activity_type\": \"unknown\",\n",
        "    \"device\": \"unknown\",\n",
        "    \"location\": \"unknown\",\n",
        "    \"duration_minutes\": 0\n",
        "})\n"
      ],
      "metadata": {
        "id": "1LtslY3Z8qfs"
      },
      "execution_count": 13,
      "outputs": []
    },
    {
      "cell_type": "code",
      "source": [
        "df_filled = df_filled.withColumn('activity_time' , F.coalesce(F.col(\"activity_time\"), F.current_timestamp()))\n",
        "null_counts = df_filled.select([F.count(F.when(F.col(c).isNull(),c)).alias(c) for c in df.columns])\n",
        "null_counts.show()"
      ],
      "metadata": {
        "colab": {
          "base_uri": "https://localhost:8080/"
        },
        "id": "ylXrvMyO9sKs",
        "outputId": "3f7d12c9-2582-42af-c4c4-b7f0f4fb0a85"
      },
      "execution_count": 14,
      "outputs": [
        {
          "output_type": "stream",
          "name": "stdout",
          "text": [
            "+-----------+----------+---------+-------------+-------------+------+--------+----------------+\n",
            "|activity_id|student_id|course_id|activity_type|activity_time|device|location|duration_minutes|\n",
            "+-----------+----------+---------+-------------+-------------+------+--------+----------------+\n",
            "|          0|         0|        0|            0|            0|     0|       0|               0|\n",
            "+-----------+----------+---------+-------------+-------------+------+--------+----------------+\n",
            "\n"
          ]
        }
      ]
    },
    {
      "cell_type": "code",
      "source": [
        "df_filled = df_filled.withColumn('date',F.col('activity_time').cast('date'))"
      ],
      "metadata": {
        "colab": {
          "base_uri": "https://localhost:8080/"
        },
        "id": "5SWCtnYT_n3u",
        "outputId": "4df593c5-56ee-449d-d464-84cc41190b51"
      },
      "execution_count": 15,
      "outputs": [
        {
          "output_type": "stream",
          "name": "stdout",
          "text": [
            "+-----------+----------+---------+---------------+-------------------+-------+---------+----------------+----------+\n",
            "|activity_id|student_id|course_id|  activity_type|      activity_time| device| location|duration_minutes|      date|\n",
            "+-----------+----------+---------+---------------+-------------------+-------+---------+----------------+----------+\n",
            "|    A274850|       S27|      C13|Complete_Course|2025-08-21 08:20:00| Tablet|   Canada|             0.0|2025-08-21|\n",
            "|    A110285|       S25|       C8|     Forum_Post|2025-08-21 06:09:00| Tablet|   Canada|             0.0|2025-08-21|\n",
            "|    A490154|       S72|      C15|    Watch_Video|2025-08-26 13:36:00|Desktop|      USA|            33.0|2025-08-26|\n",
            "|    A618340|      S100|      C18|          Login|2025-08-25 13:38:00| Mobile|       UK|             0.0|2025-08-25|\n",
            "|    A245486|      S126|      C10|          Login|2025-08-25 10:14:00|Desktop|    India|             0.0|2025-08-25|\n",
            "|    A847712|        S7|      C17|          Login|2025-08-26 15:51:00| Mobile|      USA|             0.0|2025-08-26|\n",
            "|    A884575|      S120|      C16|    Watch_Video|2025-08-21 17:54:00| Mobile|Australia|            29.0|2025-08-21|\n",
            "|    A250169|      S105|      C10|Complete_Course|2025-08-22 06:18:00| Mobile|       UK|             0.0|2025-08-22|\n",
            "|    A338620|       S15|      C14|          Login|2025-08-22 04:08:00| Tablet|       UK|             0.0|2025-08-22|\n",
            "|    A502175|      S118|       C4|   Attempt_Quiz|2025-08-23 15:17:00| Tablet|   Canada|            22.0|2025-08-23|\n",
            "|    A741978|      S108|      C11|    Watch_Video|2025-08-24 04:58:00| Tablet|Australia|             1.0|2025-08-24|\n",
            "|    A757951|       S19|      C15|Complete_Course|2025-08-20 18:57:00|Desktop|    India|             0.0|2025-08-20|\n",
            "|    A952084|       S87|      C15|          Login|2025-08-22 00:44:00| Tablet|Australia|             0.0|2025-08-22|\n",
            "|    A593317|       S71|      C12|Complete_Course|2025-08-23 09:28:00| Tablet|Australia|             0.0|2025-08-23|\n",
            "|    A479991|        S3|      C20|     Forum_Post|2025-08-20 15:31:00| Tablet|       UK|             0.0|2025-08-20|\n",
            "|    A941776|       S75|      C15|Complete_Course|2025-08-23 17:39:00| Tablet|      USA|             0.0|2025-08-23|\n",
            "|    A878883|       S35|      C15|   Attempt_Quiz|2025-08-22 22:11:00| Mobile|    India|            15.0|2025-08-22|\n",
            "|    A297561|      S133|      C19|Complete_Course|2025-08-20 05:45:00| Mobile|  unknown|             0.0|2025-08-20|\n",
            "|    A311313|      S142|      C12|Complete_Course|2025-08-21 00:20:00|Desktop|       UK|             0.0|2025-08-21|\n",
            "|    A643678|       S60|       C5|Complete_Course|2025-08-24 12:38:00| Tablet|    India|             0.0|2025-08-24|\n",
            "+-----------+----------+---------+---------------+-------------------+-------+---------+----------------+----------+\n",
            "only showing top 20 rows\n",
            "\n"
          ]
        }
      ]
    },
    {
      "cell_type": "code",
      "source": [
        "daily_metrics = df_filled.groupBy('date').agg(\n",
        "    F.count('activity_type').alias('total_activities'),\n",
        "    F.countDistinct('student_id').alias('unique_students'),\n",
        "    F.sum('duration_minutes').alias('total_duration'),\n",
        "    F.expr('mode(device)').alias('device'),\n",
        "    F.expr('mode(location)').alias('location')\n",
        ").withColumn('avg_duration_per_activity' , F.col('total_duration')/F.col('total_activities'))\n",
        "daily_metrics.show()"
      ],
      "metadata": {
        "colab": {
          "base_uri": "https://localhost:8080/"
        },
        "id": "i9-EbcAG-V6j",
        "outputId": "c9b7936e-d183-453f-cf7b-a76acb170cc3"
      },
      "execution_count": 18,
      "outputs": [
        {
          "output_type": "stream",
          "name": "stdout",
          "text": [
            "+----------+----------------+---------------+--------------+-------+--------+-------------------------+\n",
            "|      date|total_activities|unique_students|total_duration| device|location|avg_duration_per_activity|\n",
            "+----------+----------------+---------------+--------------+-------+--------+-------------------------+\n",
            "|2025-08-25|             400|            141|        5530.0| Tablet|   India|                   13.825|\n",
            "|2025-08-26|             399|            141|        4477.0| Tablet|  Canada|       11.220551378446116|\n",
            "|2025-08-20|             400|            138|        4219.0|Desktop|      UK|                  10.5475|\n",
            "|2025-08-22|             400|            141|        4465.0| Tablet|     USA|                  11.1625|\n",
            "|2025-08-23|             400|            139|        4832.0| Tablet|     USA|                    12.08|\n",
            "|2025-08-21|             400|            139|        4996.0| Tablet|      UK|                    12.49|\n",
            "|2025-08-27|               1|              1|           9.0| Tablet|     USA|                      9.0|\n",
            "|2025-08-24|             400|            136|        4714.0| Mobile|      UK|                   11.785|\n",
            "+----------+----------------+---------------+--------------+-------+--------+-------------------------+\n",
            "\n"
          ]
        }
      ]
    },
    {
      "cell_type": "code",
      "source": [
        "course_metrics = df_filled.groupBy('date','course_id').agg(\n",
        "    F.countDistinct('student_id').alias('unique_students'),\n",
        "    F.sum('duration_minutes').alias('total_time_spent'),\n",
        "    F.countDistinct(F.when(F.col(\"activity_type\") == \"Complete_Course\", \"student_id\")).alias(\"completed_students\"),\n",
        "    F.countDistinct(\"student_id\").alias(\"total_students\")\n",
        ").withColumn(\"completion_rate\", (F.col(\"completed_students\") / F.col(\"total_students\")) * 100).orderBy(F.col('total_time_spent').desc()).drop('completed_students','total_students')\n",
        "course_metrics.show()"
      ],
      "metadata": {
        "colab": {
          "base_uri": "https://localhost:8080/"
        },
        "id": "7DZvfcNIB0BH",
        "outputId": "2ac80e1e-5bc6-42a2-e125-8300b2b6db74"
      },
      "execution_count": 20,
      "outputs": [
        {
          "output_type": "stream",
          "name": "stdout",
          "text": [
            "+----------+---------+---------------+----------------+------------------+\n",
            "|      date|course_id|unique_students|total_time_spent|   completion_rate|\n",
            "+----------+---------+---------------+----------------+------------------+\n",
            "|2025-08-25|      C10|             27|           491.0|3.7037037037037033|\n",
            "|2025-08-25|       C5|             27|           477.0|3.7037037037037033|\n",
            "|2025-08-22|      C18|             25|           466.0|               4.0|\n",
            "|2025-08-20|       C5|             24|           454.0| 4.166666666666666|\n",
            "|2025-08-24|       C4|             22|           449.0| 4.545454545454546|\n",
            "|2025-08-25|      C17|             25|           447.0|               4.0|\n",
            "|2025-08-22|      C10|             24|           442.0| 4.166666666666666|\n",
            "|2025-08-26|      C20|             22|           428.0| 4.545454545454546|\n",
            "|2025-08-21|       C3|             21|           420.0| 4.761904761904762|\n",
            "|2025-08-25|      C15|             18|           390.0| 5.555555555555555|\n",
            "|2025-08-23|      C17|             25|           378.0|               4.0|\n",
            "|2025-08-26|      C18|             17|           378.0|  5.88235294117647|\n",
            "|2025-08-24|      C10|             20|           378.0|               5.0|\n",
            "|2025-08-26|      C11|             19|           367.0| 5.263157894736842|\n",
            "|2025-08-23|      C11|             22|           363.0| 4.545454545454546|\n",
            "|2025-08-23|      C15|             23|           362.0|4.3478260869565215|\n",
            "|2025-08-26|       C6|             26|           351.0|3.8461538461538463|\n",
            "|2025-08-20|      C14|             22|           344.0| 4.545454545454546|\n",
            "|2025-08-21|      C20|             21|           338.0| 4.761904761904762|\n",
            "|2025-08-24|      C20|             23|           337.0|4.3478260869565215|\n",
            "+----------+---------+---------------+----------------+------------------+\n",
            "only showing top 20 rows\n",
            "\n"
          ]
        }
      ]
    },
    {
      "cell_type": "markdown",
      "source": [
        "student_id \tdate \ttotal_time_spent \tquizzes_attempted \tcourses_completed\n"
      ],
      "metadata": {
        "id": "zfykvjC-QUhl"
      }
    },
    {
      "cell_type": "code",
      "source": [
        "student_metrics = df_filled.groupBy('student_id','date').agg(\n",
        "    sum('duration_minutes').alias('total_time_spent'),\n",
        "    count(F.col('activity_type') == 'Attempt_Quiz').alias('quizzes_attempted'),\n",
        "    count(F.col('activity_type')== 'Complete_Course').alias('courses_completed')\n",
        ").orderBy('total_time_spent',ascending=False)\n",
        "student_metrics.show()"
      ],
      "metadata": {
        "colab": {
          "base_uri": "https://localhost:8080/"
        },
        "id": "sgjrNcsODgZB",
        "outputId": "d5734792-a6d5-42fc-b393-3615673dc211"
      },
      "execution_count": 27,
      "outputs": [
        {
          "output_type": "stream",
          "name": "stdout",
          "text": [
            "+----------+----------+----------------+-----------------+-----------------+\n",
            "|student_id|      date|total_time_spent|quizzes_attempted|courses_completed|\n",
            "+----------+----------+----------------+-----------------+-----------------+\n",
            "|       S45|2025-08-25|           188.0|                6|                6|\n",
            "|       S35|2025-08-22|           173.0|                8|                8|\n",
            "|      S117|2025-08-26|           169.0|                6|                6|\n",
            "|      S148|2025-08-21|           163.0|                7|                7|\n",
            "|       S16|2025-08-20|           154.0|               10|               10|\n",
            "|       S64|2025-08-23|           150.0|                4|                4|\n",
            "|       S40|2025-08-25|           149.0|                3|                3|\n",
            "|       S11|2025-08-23|           144.0|                7|                7|\n",
            "|       S80|2025-08-21|           144.0|                4|                4|\n",
            "|      S120|2025-08-21|           141.0|                5|                5|\n",
            "|      S121|2025-08-25|           135.0|                6|                6|\n",
            "|      S140|2025-08-25|           135.0|                7|                7|\n",
            "|       S52|2025-08-22|           132.0|                4|                4|\n",
            "|       S82|2025-08-25|           131.0|                4|                4|\n",
            "|       S41|2025-08-26|           130.0|                7|                7|\n",
            "|       S47|2025-08-21|           127.0|                7|                7|\n",
            "|       S62|2025-08-21|           127.0|                7|                7|\n",
            "|       S15|2025-08-24|           124.0|                3|                3|\n",
            "|       S54|2025-08-20|           123.0|                4|                4|\n",
            "|      S106|2025-08-23|           121.0|                5|                5|\n",
            "+----------+----------+----------------+-----------------+-----------------+\n",
            "only showing top 20 rows\n",
            "\n"
          ]
        }
      ]
    },
    {
      "cell_type": "code",
      "source": [],
      "metadata": {
        "id": "-oZja9FNRQAm"
      },
      "execution_count": null,
      "outputs": []
    }
  ]
}