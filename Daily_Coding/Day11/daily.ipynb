{
 "cells": [
  {
   "cell_type": "markdown",
   "id": "0d332ddb",
   "metadata": {},
   "source": [
    "## **Problem Scenario: E-commerce Orders Analysis**\n",
    "\n",
    "### **Background**\n",
    "\n",
    "You work as a Data Engineer for an e-commerce company. The raw order data contains details about customers, products, payment methods, prices, quantities, and order statuses.\n",
    "\n",
    "Your team needs to generate daily metrics and product-level insights to help business analysts track performance, identify top products, and analyze customer behavior.\n",
    "\n",
    "---\n",
    "\n",
    "## **Business Objectives**\n",
    "\n",
    "1. **Daily Sales Metrics**\n",
    "\n",
    "   * Total orders per day\n",
    "   * Total and average revenue per day\n",
    "   * Number of unique customers per day\n",
    "   * Percentage of cancelled orders\n",
    "\n",
    "2. **Top Products Analysis**\n",
    "\n",
    "   * Most sold products by quantity\n",
    "   * Highest revenue products per day\n",
    "   * Product category sales distribution\n",
    "\n",
    "3. **Customer Insights**\n",
    "\n",
    "   * Average order value per customer\n",
    "   * Total orders per customer\n",
    "   * Top paying customers\n",
    "\n",
    "4. **Payment Method Analysis**\n",
    "\n",
    "   * Count of orders by payment method\n",
    "   * Revenue split by payment method\n",
    "\n",
    "---\n",
    "\n",
    "## **Sample Input Table (Simplified)**\n",
    "\n",
    "| order\\_id | customer\\_id | product\\_id | category    | payment\\_method | order\\_time         | price  | quantity | total\\_amount | status    |\n",
    "| --------- | ------------ | ----------- | ----------- | --------------- | ------------------- | ------ | -------- | ------------- | --------- |\n",
    "| O125678   | C1           | P5          | Electronics | Credit Card     | 2025-08-20 09:15:00 | 250.00 | 2        | 500.00        | Completed |\n",
    "| O245789   | C2           | P10         | Clothing    | UPI             | 2025-08-20 09:30:00 | 50.00  | 1        | 50.00         | Completed |\n",
    "| O356890   | C1           | P2          | Electronics | PayPal          | 2025-08-20 10:00:00 | 100.00 | 3        | 300.00        | Cancelled |\n",
    "| O445678   | C3           | P7          | Books       | Debit Card      | 2025-08-20 11:00:00 | 75.00  | 1        | 75.00         | Completed |\n",
    "\n",
    "---\n",
    "\n",
    "## **Expected Output 1 – Daily Metrics Table**\n",
    "\n",
    "| date       | total\\_orders | total\\_revenue | avg\\_revenue\\_per\\_order | unique\\_customers | cancelled\\_pct |\n",
    "| ---------- | ------------- | -------------- | ------------------------ | ----------------- | -------------- |\n",
    "| 2025-08-20 | 300           | 45250.00       | 150.83                   | 180               | 8%             |\n",
    "| 2025-08-21 | 295           | 46300.50       | 156.27                   | 175               | 9%             |\n",
    "\n",
    "---\n",
    "\n",
    "## **Expected Output 2 – Top Products Table**\n",
    "\n",
    "| date       | product\\_id | category    | total\\_quantity | total\\_revenue |\n",
    "| ---------- | ----------- | ----------- | --------------- | -------------- |\n",
    "| 2025-08-20 | P5          | Electronics | 35              | 8750.00        |\n",
    "| 2025-08-20 | P10         | Clothing    | 28              | 1400.00        |\n",
    "| 2025-08-20 | P2          | Electronics | 20              | 6000.00        |\n",
    "\n",
    "---\n",
    "\n",
    "## **Expected Output 3 – Payment Method Analysis**\n",
    "\n",
    "| date       | payment\\_method | order\\_count | total\\_revenue |\n",
    "| ---------- | --------------- | ------------ | -------------- |\n",
    "| 2025-08-20 | Credit Card     | 120          | 25000.00       |\n",
    "| 2025-08-20 | UPI             | 80           | 10000.00       |\n",
    "| 2025-08-20 | PayPal          | 50           | 5200.00        |\n",
    "\n",
    "---\n",
    "\n",
    "This problem has **real-world complexity** with:\n",
    "\n",
    "* Missing values in `category` and `payment_method`\n",
    "* Cancellations impacting revenue\n",
    "* Daily aggregation needs\n",
    "* Top product and customer analysis\n",
    "\n",
    "---"
   ]
  },
  {
   "cell_type": "code",
   "execution_count": 6,
   "id": "61d905d4",
   "metadata": {},
   "outputs": [],
   "source": [
    "from pyspark.sql import SparkSession\n",
    "from pyspark.sql import *\n",
    "from pyspark.sql.functions import *"
   ]
  },
  {
   "cell_type": "code",
   "execution_count": 9,
   "id": "aa799ab0",
   "metadata": {},
   "outputs": [
    {
     "name": "stdout",
     "output_type": "stream",
     "text": [
      "root\n",
      " |-- order_id: string (nullable = true)\n",
      " |-- customer_id: string (nullable = true)\n",
      " |-- product_id: string (nullable = true)\n",
      " |-- category: string (nullable = true)\n",
      " |-- payment_method: string (nullable = true)\n",
      " |-- order_time: timestamp (nullable = true)\n",
      " |-- price: double (nullable = true)\n",
      " |-- quantity: integer (nullable = true)\n",
      " |-- total_amount: double (nullable = true)\n",
      " |-- status: string (nullable = true)\n",
      "\n"
     ]
    }
   ],
   "source": [
    "spark = SparkSession.builder.appName(\"Daily-Day11\").getOrCreate()\n",
    "df = spark.read.option(\"header\", \"true\").option(\"inferSchema\", \"true\").csv(\"ecommerce.csv\")\n",
    "df.printSchema()"
   ]
  },
  {
   "cell_type": "code",
   "execution_count": 10,
   "id": "94e6607d",
   "metadata": {},
   "outputs": [
    {
     "name": "stdout",
     "output_type": "stream",
     "text": [
      "root\n",
      " |-- order_id: string (nullable = true)\n",
      " |-- customer_id: string (nullable = true)\n",
      " |-- product_id: string (nullable = true)\n",
      " |-- category: string (nullable = true)\n",
      " |-- payment_method: string (nullable = true)\n",
      " |-- order_time: timestamp (nullable = true)\n",
      " |-- price: double (nullable = true)\n",
      " |-- quantity: integer (nullable = true)\n",
      " |-- total_amount: double (nullable = true)\n",
      " |-- status: string (nullable = true)\n",
      " |-- date: date (nullable = true)\n",
      "\n",
      "+--------+-----------+----------+-----------+--------------+-------------------+------+--------+------------+---------+----------+\n",
      "|order_id|customer_id|product_id|category   |payment_method|order_time         |price |quantity|total_amount|status   |date      |\n",
      "+--------+-----------+----------+-----------+--------------+-------------------+------+--------+------------+---------+----------+\n",
      "|O898230 |C187       |P40       |Books      |Debit Card    |2025-08-23 00:06:00|297.45|1       |297.45      |Completed|2025-08-23|\n",
      "|O483710 |C178       |P44       |Sports     |UPI           |2025-08-24 03:01:00|478.34|3       |1435.02     |Completed|2025-08-24|\n",
      "|O556243 |C139       |P46       |Electronics|UPI           |2025-08-21 05:18:00|187.59|4       |750.36      |Completed|2025-08-21|\n",
      "|O745017 |C42        |P30       |Home       |Credit Card   |2025-08-23 01:32:00|478.53|4       |1914.12     |Completed|2025-08-23|\n",
      "|O986474 |C79        |P23       |NULL       |Debit Card    |2025-08-22 09:39:00|224.06|1       |224.06      |Completed|2025-08-22|\n",
      "+--------+-----------+----------+-----------+--------------+-------------------+------+--------+------------+---------+----------+\n",
      "only showing top 5 rows\n",
      "\n"
     ]
    }
   ],
   "source": [
    "df = df.withColumn('date',to_date('order_time','yyyy-MM-dd'))\n",
    "df.printSchema()\n",
    "df.show(5, truncate=False)"
   ]
  },
  {
   "cell_type": "code",
   "execution_count": 22,
   "id": "f091e8ef",
   "metadata": {},
   "outputs": [
    {
     "name": "stdout",
     "output_type": "stream",
     "text": [
      "+----------+------------+-----------------+------------------+----------------+------------------+\n",
      "|date      |total_orders|total_revenue    |avg_order_value   |unique_customers|cancelled_pct     |\n",
      "+----------+------------+-----------------+------------------+----------------+------------------+\n",
      "|2025-08-24|300         |78603.24000000005|262.0108000000002 |154             |12.666666666666668|\n",
      "|2025-08-20|300         |78358.3          |261.19433333333336|163             |10.333333333333334|\n",
      "|2025-08-22|300         |77009.09999999999|256.69699999999995|158             |9.666666666666666 |\n",
      "|2025-08-21|300         |73523.15999999997|245.07719999999992|164             |9.333333333333334 |\n",
      "|2025-08-23|300         |80900.51999999999|269.66839999999996|167             |7.333333333333333 |\n",
      "+----------+------------+-----------------+------------------+----------------+------------------+\n",
      "\n"
     ]
    }
   ],
   "source": [
    "from pyspark.sql import functions as F\n",
    "\n",
    "daily_metrics = (\n",
    "    df.groupBy(\"date\")\n",
    "      .agg(\n",
    "          F.countDistinct(\"order_id\").alias(\"total_orders\"),\n",
    "          F.sum(\"price\").alias(\"total_revenue\"),\n",
    "          F.avg(\"price\").alias(\"avg_order_value\"),\n",
    "          F.countDistinct(\"customer_id\").alias(\"unique_customers\"),\n",
    "          F.countDistinct(F.when(F.col(\"status\") == \"Cancelled\", F.col(\"order_id\"))).alias(\"cancelled_orders\")\n",
    "      )\n",
    "      .withColumn(\n",
    "          \"cancelled_pct\",\n",
    "          (F.col(\"cancelled_orders\") / F.col(\"total_orders\")) * 100\n",
    "      ).drop(\"cancelled_orders\").orderBy(\"cancelled_pct\", ascending=False)\n",
    ")\n",
    "daily_metrics.show(truncate=False)"
   ]
  },
  {
   "cell_type": "code",
   "execution_count": 36,
   "id": "3042194f",
   "metadata": {},
   "outputs": [
    {
     "name": "stdout",
     "output_type": "stream",
     "text": [
      "+----------+----------+-----------+------------------+--------------+\n",
      "|date      |product_id|category   |total_revenue     |total_quantity|\n",
      "+----------+----------+-----------+------------------+--------------+\n",
      "|2025-08-24|P23       |Home       |1696.54           |7             |\n",
      "|2025-08-22|P45       |Electronics|1829.2599999999998|6             |\n",
      "|2025-08-21|P7        |Clothing   |1114.5            |5             |\n",
      "|2025-08-23|P35       |Sports     |1377.7200000000003|5             |\n",
      "|2025-08-20|P26       |Home       |1171.6            |4             |\n",
      "+----------+----------+-----------+------------------+--------------+\n",
      "\n"
     ]
    }
   ],
   "source": [
    "top_products = df.groupBy(\"date\", \"product_id\",\"category\") \\\n",
    "    .agg(sum(\"price\").alias(\"total_revenue\"),\n",
    "        count(\"product_id\").alias(\"total_quantity\")) \\\n",
    "    .withColumn(\"rank\", F.row_number().over(Window.partitionBy(\"date\").orderBy(F.col(\"total_quantity\").desc()))) \\\n",
    "    .filter(F.col(\"rank\") == 1) \\\n",
    "    .orderBy(\"total_quantity\",ascending=False).drop(\"rank\")\n",
    "top_products.show(truncate=False)"
   ]
  },
  {
   "cell_type": "code",
   "execution_count": 40,
   "id": "307a77be",
   "metadata": {},
   "outputs": [
    {
     "name": "stdout",
     "output_type": "stream",
     "text": [
      "+----------+--------------+----------------+------------------+\n",
      "|date      |payment_method|num_transactions|total_revenue     |\n",
      "+----------+--------------+----------------+------------------+\n",
      "|2025-08-23|Credit Card   |62              |18107.89          |\n",
      "|2025-08-20|UPI           |64              |18017.63          |\n",
      "|2025-08-23|PayPal        |63              |17315.88          |\n",
      "|2025-08-24|UPI           |59              |17182.589999999997|\n",
      "|2025-08-20|Credit Card   |68              |17135.48          |\n",
      "|2025-08-22|Cash          |67              |16972.399999999998|\n",
      "|2025-08-21|UPI           |66              |16910.809999999994|\n",
      "|2025-08-24|Cash          |58              |16710.770000000004|\n",
      "|2025-08-21|Debit Card    |64              |16555.64          |\n",
      "|2025-08-22|UPI           |63              |16499.84          |\n",
      "|2025-08-23|Debit Card    |59              |16303.21          |\n",
      "|2025-08-22|Credit Card   |58              |15984.669999999998|\n",
      "|2025-08-24|PayPal        |66              |15981.330000000004|\n",
      "|2025-08-20|PayPal        |62              |15851.029999999999|\n",
      "|2025-08-20|Debit Card    |56              |15228.67          |\n",
      "|2025-08-23|Cash          |57              |14846.269999999991|\n",
      "|2025-08-24|Credit Card   |57              |14395.44          |\n",
      "|2025-08-22|Debit Card    |60              |13790.449999999999|\n",
      "|2025-08-21|Credit Card   |55              |13151.15          |\n",
      "|2025-08-24|Debit Card    |54              |13144.899999999998|\n",
      "+----------+--------------+----------------+------------------+\n",
      "only showing top 20 rows\n",
      "\n"
     ]
    }
   ],
   "source": [
    "payment_metrics = df.groupBy(\"date\", \"payment_method\") \\\n",
    "    .agg(\n",
    "        F.count(\"order_id\").alias(\"num_transactions\"),\n",
    "        F.sum(\"price\").alias(\"total_revenue\")\n",
    "    ).orderBy( \"total_revenue\",ascending=False)\n",
    "payment_metrics.show(truncate=False)"
   ]
  },
  {
   "cell_type": "code",
   "execution_count": 43,
   "id": "6fa1f3f7",
   "metadata": {},
   "outputs": [
    {
     "name": "stdout",
     "output_type": "stream",
     "text": [
      "+-----------+------------+------------------+------------------+------------------+\n",
      "|customer_id|total_orders|total_spent       |avg_order_value   |avg_orders_per_day|\n",
      "+-----------+------------+------------------+------------------+------------------+\n",
      "|C54        |15          |4721.13           |314.742           |3.0               |\n",
      "|C94        |17          |4191.120000000001 |246.53647058823535|3.4               |\n",
      "|C89        |13          |3603.2900000000004|277.17615384615385|2.6               |\n",
      "|C108       |11          |3456.52           |314.2290909090909 |2.2               |\n",
      "|C63        |12          |3453.87           |287.8225          |2.4               |\n",
      "+-----------+------------+------------------+------------------+------------------+\n",
      "only showing top 5 rows\n",
      "\n"
     ]
    }
   ],
   "source": [
    "customer_metrics = (\n",
    "    df.groupBy(\"customer_id\")\n",
    "      .agg(\n",
    "          F.countDistinct(\"order_id\").alias(\"total_orders\"),\n",
    "          F.sum(\"price\").alias(\"total_spent\"),\n",
    "          F.avg(\"price\").alias(\"avg_order_value\"),\n",
    "          F.countDistinct(\"date\").alias(\"active_days\")\n",
    "      )\n",
    "      .withColumn(\n",
    "          \"avg_orders_per_day\",\n",
    "          F.col(\"total_orders\") / F.col(\"active_days\")\n",
    "      ).drop(\"active_days\").orderBy(\"total_spent\", ascending=False)\n",
    ")\n",
    "customer_metrics.show(5, truncate=False)"
   ]
  },
  {
   "cell_type": "code",
   "execution_count": null,
   "id": "a6b3e78c",
   "metadata": {},
   "outputs": [],
   "source": []
  }
 ],
 "metadata": {
  "kernelspec": {
   "display_name": "Python 3",
   "language": "python",
   "name": "python3"
  },
  "language_info": {
   "codemirror_mode": {
    "name": "ipython",
    "version": 3
   },
   "file_extension": ".py",
   "mimetype": "text/x-python",
   "name": "python",
   "nbconvert_exporter": "python",
   "pygments_lexer": "ipython3",
   "version": "3.8.10"
  }
 },
 "nbformat": 4,
 "nbformat_minor": 5
}
