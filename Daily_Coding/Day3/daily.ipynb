{
  "nbformat": 4,
  "nbformat_minor": 0,
  "metadata": {
    "colab": {
      "provenance": []
    },
    "kernelspec": {
      "name": "python3",
      "display_name": "Python 3"
    },
    "language_info": {
      "name": "python"
    }
  },
  "cells": [
    {
      "cell_type": "markdown",
      "source": [
        "<pre>Problem Statement\n",
        "\n",
        "You have a PySpark DataFrame containing customer purchase data.\n",
        "Each row represents a purchase.\n",
        "Write a PySpark program to find the first purchase date for each customer and the amount spent on that date.\n",
        "Sample Input (purchases)\n",
        "customer_id \tpurchase_date \tamount\n",
        "101 \t2025-01-03 \t250\n",
        "101 \t2025-01-05 \t300\n",
        "102 \t2025-01-01 \t150\n",
        "102 \t2025-01-02 \t200\n",
        "103 \t2025-01-04 \t500\n",
        "Expected Output\n",
        "customer_id \tfirst_purchase_date \tamount\n",
        "101 \t2025-01-03 \t250\n",
        "102 \t2025-01-01 \t150\n",
        "103 \t2025-01-04 \t500\n",
        "</pre>\n",
        "\n"
      ],
      "metadata": {
        "id": "mtViUtZyujz5"
      }
    },
    {
      "cell_type": "code",
      "execution_count": 26,
      "metadata": {
        "id": "fZWV_c-RuPv4"
      },
      "outputs": [],
      "source": [
        "from pyspark.sql import SparkSession\n",
        "from pyspark.sql import functions as F\n",
        "from pyspark.sql import Window"
      ]
    },
    {
      "cell_type": "code",
      "source": [
        "spark = SparkSession.builder.appName('Daily-Coding-Day3').getOrCreate()"
      ],
      "metadata": {
        "id": "TadlCYghwABM"
      },
      "execution_count": 11,
      "outputs": []
    },
    {
      "cell_type": "code",
      "source": [
        "data = [[101,\"2025-01-03\",250],\n",
        "[101   ,  \"2025-01-05\"   ,  300],\n",
        "[102  ,   \"2025-01-01\"   , 150],\n",
        "[102 ,    \"2025-01-02\"    , 200],\n",
        "[103 ,    \"2025-01-04\"    , 500]]"
      ],
      "metadata": {
        "id": "_1MHOdudu7Zv"
      },
      "execution_count": 10,
      "outputs": []
    },
    {
      "cell_type": "code",
      "source": [
        "schema =['customer_id','purchase_date','amount']"
      ],
      "metadata": {
        "id": "jAc7KmMGv4q2"
      },
      "execution_count": 12,
      "outputs": []
    },
    {
      "cell_type": "code",
      "source": [
        "customer_df = spark.createDataFrame(data=data , schema=schema)"
      ],
      "metadata": {
        "id": "89MF4jSPwcVv"
      },
      "execution_count": 13,
      "outputs": []
    },
    {
      "cell_type": "code",
      "source": [
        "customer_df =  customer_df.withColumn('purchase_date',F.col('purchase_date').cast(\"date\"))"
      ],
      "metadata": {
        "id": "WN3k3q2wwjLi"
      },
      "execution_count": 21,
      "outputs": []
    },
    {
      "cell_type": "code",
      "source": [
        "customer_df.printSchema()\n",
        "customer_df.show()"
      ],
      "metadata": {
        "colab": {
          "base_uri": "https://localhost:8080/"
        },
        "id": "-X2nXeNRwrnw",
        "outputId": "1719375f-f480-45bb-9f8a-5e994c531c0f"
      },
      "execution_count": 24,
      "outputs": [
        {
          "output_type": "stream",
          "name": "stdout",
          "text": [
            "root\n",
            " |-- customer_id: long (nullable = true)\n",
            " |-- purchase_date: date (nullable = true)\n",
            " |-- amount: long (nullable = true)\n",
            "\n",
            "+-----------+-------------+------+\n",
            "|customer_id|purchase_date|amount|\n",
            "+-----------+-------------+------+\n",
            "|        101|   2025-01-03|   250|\n",
            "|        101|   2025-01-05|   300|\n",
            "|        102|   2025-01-01|   150|\n",
            "|        102|   2025-01-02|   200|\n",
            "|        103|   2025-01-04|   500|\n",
            "+-----------+-------------+------+\n",
            "\n"
          ]
        }
      ]
    },
    {
      "cell_type": "code",
      "source": [
        "window_spec = Window.partitionBy(\"customer_id\").orderBy(\"purchase_date\")\n",
        "result = (customer_df.withColumn(\"rn\", F.row_number().over(window_spec)).filter(F.col(\"rn\") == 1).select(\"customer_id\", F.col(\"purchase_date\").alias(\"first_purchase_date\"), \"amount\"))"
      ],
      "metadata": {
        "id": "Rg1M5WwtxPsS"
      },
      "execution_count": 33,
      "outputs": []
    },
    {
      "cell_type": "code",
      "source": [
        "result.show()"
      ],
      "metadata": {
        "colab": {
          "base_uri": "https://localhost:8080/"
        },
        "id": "IDk_kCQayMZS",
        "outputId": "3108e98c-95ad-4123-c0ed-1f44bdaf5210"
      },
      "execution_count": 34,
      "outputs": [
        {
          "output_type": "stream",
          "name": "stdout",
          "text": [
            "+-----------+-------------------+------+\n",
            "|customer_id|first_purchase_date|amount|\n",
            "+-----------+-------------------+------+\n",
            "|        101|         2025-01-03|   250|\n",
            "|        102|         2025-01-01|   150|\n",
            "|        103|         2025-01-04|   500|\n",
            "+-----------+-------------------+------+\n",
            "\n"
          ]
        }
      ]
    },
    {
      "cell_type": "markdown",
      "source": [
        "<pre>\n",
        "Problem 2: SQL – Detect Employees with Salary Changes\n",
        "Problem Statement\n",
        "\n",
        "You have a table employee_salaries(emp_id, effective_date, salary) containing\n",
        "salary history for employees.\n",
        "Write a SQL query to find employees whose salary changed more than once and\n",
        " display the number of changes for each.\n",
        "Sample Input (employee_salaries)\n",
        "emp_id \teffective_date \tsalary\n",
        "1 \t2025-01-01 \t50000\n",
        "1 \t2025-02-01 \t55000\n",
        "1 \t2025-03-01 \t60000\n",
        "2 \t2025-01-15 \t40000\n",
        "2 \t2025-03-01 \t45000\n",
        "3 \t2025-01-10 \t30000\n",
        "Expected Output\n",
        "emp_id \tsalary_change_count\n",
        "1 \t2\n",
        "2 \t1\n",
        "</pre>"
      ],
      "metadata": {
        "id": "-Yjq7ozkzrGk"
      }
    },
    {
      "cell_type": "code",
      "source": [
        "data = [\n",
        "    (1, \"2025-01-01\", 50000),\n",
        "    (1, \"2025-02-01\", 55000),\n",
        "    (1, \"2025-03-01\", 60000),\n",
        "    (2, \"2025-01-15\", 40000),\n",
        "    (2, \"2025-03-01\", 45000),\n",
        "    (3, \"2025-01-10\", 30000),\n",
        "]\n",
        "\n",
        "columns = [\"emp_id\", \"effective_date\", \"salary\"]\n",
        "\n",
        "# Create DataFrame\n",
        "df = spark.createDataFrame(data, columns)\n",
        "\n",
        "# Cast effective_date to date type\n",
        "df = df.withColumn(\"effective_date\", F.to_date(\"effective_date\", \"yyyy-MM-dd\"))\n",
        "\n",
        "# Register as a temporary SQL table (view)\n",
        "df.createOrReplaceTempView(\"employee_salaries\")"
      ],
      "metadata": {
        "id": "yA0ciH-FywWh"
      },
      "execution_count": 35,
      "outputs": []
    },
    {
      "cell_type": "code",
      "source": [
        "result = spark.sql('''with salary_diff as (\n",
        "    select\n",
        "        emp_id,\n",
        "        salary,\n",
        "        lag(salary) over (partition by emp_id order by effective_date) as prev_salary\n",
        "    from employee_salaries\n",
        ")\n",
        "select\n",
        "    emp_id,\n",
        "    count(*) as salary_change_count\n",
        "from salary_diff\n",
        "where prev_salary is not null and salary <> prev_salary\n",
        "group by emp_id;''')"
      ],
      "metadata": {
        "id": "iSANpYFV1h1W"
      },
      "execution_count": 36,
      "outputs": []
    },
    {
      "cell_type": "code",
      "source": [
        "result.show()"
      ],
      "metadata": {
        "colab": {
          "base_uri": "https://localhost:8080/"
        },
        "id": "rfpqwW1L2FXM",
        "outputId": "99cea61b-50e7-4971-fa96-fa1f6ce3600f"
      },
      "execution_count": 37,
      "outputs": [
        {
          "output_type": "stream",
          "name": "stdout",
          "text": [
            "+------+-------------------+\n",
            "|emp_id|salary_change_count|\n",
            "+------+-------------------+\n",
            "|     1|                  2|\n",
            "|     2|                  1|\n",
            "+------+-------------------+\n",
            "\n"
          ]
        }
      ]
    },
    {
      "cell_type": "code",
      "source": [],
      "metadata": {
        "id": "WZJVjXag2GkN"
      },
      "execution_count": null,
      "outputs": []
    }
  ]
}