{
  "cells": [
    {
      "cell_type": "markdown",
      "metadata": {
        "id": "vI0VD1e6pqXx"
      },
      "source": [
        "# Ex1 - Filtering and Sorting Data"
      ]
    },
    {
      "cell_type": "code",
      "execution_count": 20,
      "metadata": {
        "id": "ErpfGopTpqXz"
      },
      "outputs": [],
      "source": [
        "from pyspark.sql.functions import *\n",
        "from pyspark.sql import *\n",
        "from pyspark.sql.functions import *\n",
        "import pandas as pd\n",
        "from pyspark.sql.types import *"
      ]
    },
    {
      "cell_type": "markdown",
      "metadata": {
        "id": "gbqgGJrDpqXz"
      },
      "source": [
        "### Step 2. Import the dataset from this [address](https://raw.githubusercontent.com/justmarkham/DAT8/master/data/chipotle.tsv)."
      ]
    },
    {
      "cell_type": "code",
      "execution_count": 21,
      "metadata": {
        "id": "D0FuawN31CSy"
      },
      "outputs": [],
      "source": [
        "spark = SparkSession.builder.appName(\"ChipotleData\").getOrCreate()"
      ]
    },
    {
      "cell_type": "markdown",
      "metadata": {
        "id": "6IX-cFpwpqXz"
      },
      "source": [
        "### Step 3. Assign it to a variable called chipo."
      ]
    },
    {
      "cell_type": "code",
      "execution_count": 22,
      "metadata": {
        "id": "NBsJsfK6pqXz"
      },
      "outputs": [],
      "source": [
        "url = \"https://raw.githubusercontent.com/justmarkham/DAT8/master/data/chipotle.tsv\"\n",
        "chipo_pd = pd.read_csv(url, sep=\"\\t\")\n",
        "chipo_df = spark.createDataFrame(chipo_pd)"
      ]
    },
    {
      "cell_type": "code",
      "execution_count": 23,
      "metadata": {
        "colab": {
          "base_uri": "https://localhost:8080/"
        },
        "id": "Lsdz57uH1Nwh",
        "outputId": "b00dbd41-a400-412f-da3c-80a9006e4a20"
      },
      "outputs": [
        {
          "name": "stdout",
          "output_type": "stream",
          "text": [
            "+--------+--------+--------------------+--------------------+----------+\n",
            "|order_id|quantity|           item_name|  choice_description|item_price|\n",
            "+--------+--------+--------------------+--------------------+----------+\n",
            "|       1|       1|Chips and Fresh T...|                 NaN|    $2.39 |\n",
            "|       1|       1|                Izze|        [Clementine]|    $3.39 |\n",
            "|       1|       1|    Nantucket Nectar|             [Apple]|    $3.39 |\n",
            "|       1|       1|Chips and Tomatil...|                 NaN|    $2.39 |\n",
            "|       2|       2|        Chicken Bowl|[Tomatillo-Red Ch...|   $16.98 |\n",
            "|       3|       1|        Chicken Bowl|[Fresh Tomato Sal...|   $10.98 |\n",
            "|       3|       1|       Side of Chips|                 NaN|    $1.69 |\n",
            "|       4|       1|       Steak Burrito|[Tomatillo Red Ch...|   $11.75 |\n",
            "|       4|       1|    Steak Soft Tacos|[Tomatillo Green ...|    $9.25 |\n",
            "|       5|       1|       Steak Burrito|[Fresh Tomato Sal...|    $9.25 |\n",
            "|       5|       1| Chips and Guacamole|                 NaN|    $4.45 |\n",
            "|       6|       1|Chicken Crispy Tacos|[Roasted Chili Co...|    $8.75 |\n",
            "|       6|       1|  Chicken Soft Tacos|[Roasted Chili Co...|    $8.75 |\n",
            "|       7|       1|        Chicken Bowl|[Fresh Tomato Sal...|   $11.25 |\n",
            "|       7|       1| Chips and Guacamole|                 NaN|    $4.45 |\n",
            "|       8|       1|Chips and Tomatil...|                 NaN|    $2.39 |\n",
            "|       8|       1|     Chicken Burrito|[Tomatillo-Green ...|    $8.49 |\n",
            "|       9|       1|     Chicken Burrito|[Fresh Tomato Sal...|    $8.49 |\n",
            "|       9|       2|         Canned Soda|            [Sprite]|    $2.18 |\n",
            "|      10|       1|        Chicken Bowl|[Tomatillo Red Ch...|    $8.75 |\n",
            "+--------+--------+--------------------+--------------------+----------+\n",
            "only showing top 20 rows\n",
            "\n"
          ]
        }
      ],
      "source": [
        "chipo_df.show()"
      ]
    },
    {
      "cell_type": "code",
      "execution_count": 24,
      "metadata": {
        "id": "S-vMC7Ly110Z"
      },
      "outputs": [],
      "source": [
        "chipo_df = chipo_df.withColumn(\n",
        "    \"item_price\",\n",
        "    regexp_replace(col(\"item_price\"), \"[$]\", \"\").cast(\"float\")\n",
        ")"
      ]
    },
    {
      "cell_type": "markdown",
      "metadata": {
        "id": "0RT6NIp3pqXz"
      },
      "source": [
        "### Step 4. How many products cost more than $10.00?"
      ]
    },
    {
      "cell_type": "code",
      "execution_count": 26,
      "metadata": {
        "colab": {
          "base_uri": "https://localhost:8080/"
        },
        "id": "FmPd7Ql7pqXz",
        "outputId": "87c2e98d-0611-4f17-e1ac-6a06b68bdc31"
      },
      "outputs": [
        {
          "name": "stdout",
          "output_type": "stream",
          "text": [
            "+--------+--------+--------------------+--------------------+----------+\n",
            "|order_id|quantity|           item_name|  choice_description|item_price|\n",
            "+--------+--------+--------------------+--------------------+----------+\n",
            "|      19|       1|       Barbacoa Bowl|[Roasted Chili Co...|     11.75|\n",
            "|      75|       1|Barbacoa Crispy T...|[Tomatillo Red Ch...|     11.75|\n",
            "|     501|       1| Barbacoa Salad Bowl|[Fresh Tomato Sal...|     11.89|\n",
            "|     193|       3|                Bowl|[Braised Carnitas...|      22.2|\n",
            "|     468|       1| Carnitas Salad Bowl|[Fresh Tomato Sal...|     11.89|\n",
            "|       2|       2|        Chicken Bowl|[Tomatillo-Red Ch...|     16.98|\n",
            "|     109|       1|       Chicken Salad|[Roasted Chili Co...|     10.98|\n",
            "|       4|       1|       Steak Burrito|[Tomatillo Red Ch...|     11.75|\n",
            "|     123|       2|    Steak Salad Bowl|[Tomatillo Red Ch...|     23.78|\n",
            "|      28|       1|         Veggie Bowl|[Fresh Tomato Sal...|     11.25|\n",
            "|      26|       1|      Veggie Burrito|[Tomatillo Red Ch...|     11.25|\n",
            "|      83|       1|   Veggie Salad Bowl|[Fresh Tomato Sal...|     11.25|\n",
            "|     304|       1|   Veggie Soft Tacos|[Tomatillo Red Ch...|     11.25|\n",
            "+--------+--------+--------------------+--------------------+----------+\n",
            "\n"
          ]
        }
      ],
      "source": [
        "chipo_df.drop_duplicates(['item_name']).filter(col('item_price')>10.00).show()"
      ]
    },
    {
      "cell_type": "markdown",
      "metadata": {
        "id": "RsV8XJ4jpqXz"
      },
      "source": [
        "### Step 5. What is the price of each item?\n",
        "###### print a data frame with only two columns item_name and item_price"
      ]
    },
    {
      "cell_type": "code",
      "execution_count": 37,
      "metadata": {
        "colab": {
          "base_uri": "https://localhost:8080/"
        },
        "id": "N_e0CMuupqX0",
        "outputId": "4a40f245-d93e-414e-99f1-127bd85abd24"
      },
      "outputs": [
        {
          "name": "stdout",
          "output_type": "stream",
          "text": [
            "+--------------------+----------+\n",
            "|           item_name|item_price|\n",
            "+--------------------+----------+\n",
            "| Carnitas Soft Tacos|      9.25|\n",
            "|  Chicken Soft Tacos|      8.75|\n",
            "|               Salad|       7.4|\n",
            "|         Steak Salad|      8.99|\n",
            "|                Bowl|      22.2|\n",
            "| Veggie Crispy Tacos|      8.49|\n",
            "|   6 Pack Soft Drink|      6.49|\n",
            "|Chicken Crispy Tacos|      8.75|\n",
            "|   Veggie Soft Tacos|     11.25|\n",
            "| Carnitas Salad Bowl|     11.89|\n",
            "|     Chicken Burrito|      8.49|\n",
            "|   Veggie Salad Bowl|     11.25|\n",
            "|         Veggie Bowl|     11.25|\n",
            "|       Steak Burrito|     11.75|\n",
            "|  Steak Crispy Tacos|      9.25|\n",
            "|   Canned Soft Drink|      1.25|\n",
            "|        Chicken Bowl|     16.98|\n",
            "|       Side of Chips|      1.69|\n",
            "|                Izze|      3.39|\n",
            "|  Chicken Salad Bowl|      8.75|\n",
            "+--------------------+----------+\n",
            "only showing top 20 rows\n",
            "\n"
          ]
        }
      ],
      "source": [
        "each_item_price = chipo_df.select(col('item_name'),col('item_price')).drop_duplicates(['item_name'])\n",
        "each_item_price.show()"
      ]
    },
    {
      "cell_type": "code",
      "execution_count": 38,
      "metadata": {
        "colab": {
          "base_uri": "https://localhost:8080/"
        },
        "id": "s8rq_MYX3XEv",
        "outputId": "905c7aee-b00b-40e9-8c09-b753203a906e"
      },
      "outputs": [
        {
          "data": {
            "text/plain": [
              "50"
            ]
          },
          "execution_count": 38,
          "metadata": {},
          "output_type": "execute_result"
        }
      ],
      "source": [
        "each_item_price.select('item_name').count()"
      ]
    },
    {
      "cell_type": "markdown",
      "metadata": {
        "id": "sPKzcVbCpqX0"
      },
      "source": [
        "### Step 6. Sort by the name of the item"
      ]
    },
    {
      "cell_type": "code",
      "execution_count": 40,
      "metadata": {
        "colab": {
          "base_uri": "https://localhost:8080/"
        },
        "id": "GsKrlerqpqX0",
        "outputId": "1bd7e1b5-580f-4a92-f3c6-2d8fe15b9d77"
      },
      "outputs": [
        {
          "name": "stdout",
          "output_type": "stream",
          "text": [
            "+--------+--------+--------------------+--------------------+----------+\n",
            "|order_id|quantity|           item_name|  choice_description|item_price|\n",
            "+--------+--------+--------------------+--------------------+----------+\n",
            "|     129|       1|   6 Pack Soft Drink|            [Sprite]|      6.49|\n",
            "|      19|       1|       Barbacoa Bowl|[Roasted Chili Co...|     11.75|\n",
            "|      11|       1|    Barbacoa Burrito|[[Fresh Tomato Sa...|      8.99|\n",
            "|      75|       1|Barbacoa Crispy T...|[Tomatillo Red Ch...|     11.75|\n",
            "|     501|       1| Barbacoa Salad Bowl|[Fresh Tomato Sal...|     11.89|\n",
            "|      26|       1| Barbacoa Soft Tacos|[Fresh Tomato Sal...|      9.25|\n",
            "|      17|       1|       Bottled Water|                 NaN|      1.09|\n",
            "|     193|       3|                Bowl|[Braised Carnitas...|      22.2|\n",
            "|     214|       1|             Burrito|[Adobo-Marinated ...|       7.4|\n",
            "|       9|       2|         Canned Soda|            [Sprite]|      2.18|\n",
            "|     114|       1|   Canned Soft Drink|              [Coke]|      1.25|\n",
            "|      17|       1|       Carnitas Bowl|[Tomatillo-Red Ch...|      8.99|\n",
            "|      14|       1|    Carnitas Burrito|[[Tomatillo-Green...|      8.99|\n",
            "|     230|       1|Carnitas Crispy T...|[Roasted Chili Co...|      9.25|\n",
            "|    1500|       1|      Carnitas Salad|[[Fresh Tomato Sa...|      8.99|\n",
            "|     468|       1| Carnitas Salad Bowl|[Fresh Tomato Sal...|     11.89|\n",
            "|     103|       1| Carnitas Soft Tacos|[Tomatillo Green ...|      9.25|\n",
            "|       2|       2|        Chicken Bowl|[Tomatillo-Red Ch...|     16.98|\n",
            "|       8|       1|     Chicken Burrito|[Tomatillo-Green ...|      8.49|\n",
            "|       6|       1|Chicken Crispy Tacos|[Roasted Chili Co...|      8.75|\n",
            "+--------+--------+--------------------+--------------------+----------+\n",
            "only showing top 20 rows\n",
            "\n"
          ]
        }
      ],
      "source": [
        "chipo_df.sort(['item_name']).drop_duplicates(['item_name']).show()"
      ]
    },
    {
      "cell_type": "markdown",
      "metadata": {
        "id": "XhTBR76-pqX0"
      },
      "source": [
        "### Step 7. What was the quantity of the most expensive item ordered?"
      ]
    },
    {
      "cell_type": "code",
      "execution_count": 49,
      "metadata": {
        "colab": {
          "base_uri": "https://localhost:8080/"
        },
        "id": "2tPWJk93pqX0",
        "outputId": "03942d18-c275-4cb0-93a4-ef782cfe61d2"
      },
      "outputs": [
        {
          "name": "stdout",
          "output_type": "stream",
          "text": [
            "+--------+--------+--------------------+------------------+----------+\n",
            "|order_id|quantity|           item_name|choice_description|item_price|\n",
            "+--------+--------+--------------------+------------------+----------+\n",
            "|    1443|      15|Chips and Fresh T...|               NaN|     44.25|\n",
            "+--------+--------+--------------------+------------------+----------+\n",
            "only showing top 1 row\n",
            "\n"
          ]
        }
      ],
      "source": [
        "chipo_df.orderBy('item_price',ascending =False).show(1)"
      ]
    },
    {
      "cell_type": "markdown",
      "metadata": {
        "id": "YdOYxvoIpqX0"
      },
      "source": [
        "### Step 8. How many times was a Veggie Salad Bowl ordered?"
      ]
    },
    {
      "cell_type": "code",
      "execution_count": 54,
      "metadata": {
        "colab": {
          "base_uri": "https://localhost:8080/"
        },
        "id": "OIUNVvcspqX0",
        "outputId": "9de9cca6-f206-4903-946d-ff1453ed2cc9"
      },
      "outputs": [
        {
          "name": "stdout",
          "output_type": "stream",
          "text": [
            "+-------------+\n",
            "|sum(quantity)|\n",
            "+-------------+\n",
            "|           18|\n",
            "+-------------+\n",
            "\n"
          ]
        }
      ],
      "source": [
        "chipo_df.filter(col('item_name') == 'Veggie Salad Bowl').agg(sum('quantity')).show()"
      ]
    },
    {
      "cell_type": "markdown",
      "metadata": {
        "id": "ULq9r9tXpqX0"
      },
      "source": [
        "### Step 9. How many times did someone order more than one Canned Soda?"
      ]
    },
    {
      "cell_type": "code",
      "execution_count": 63,
      "metadata": {
        "colab": {
          "base_uri": "https://localhost:8080/"
        },
        "id": "9QG0LvonpqX0",
        "outputId": "27cf50df-a0bf-4bc7-d099-a58e16d90f5a"
      },
      "outputs": [
        {
          "data": {
            "text/plain": [
              "84"
            ]
          },
          "execution_count": 63,
          "metadata": {},
          "output_type": "execute_result"
        }
      ],
      "source": [
        "chipo_df.filter((col('item_name') == 'Canned Soda') & (col('quantity') == 1)).count()"
      ]
    },
    {
      "cell_type": "code",
      "execution_count": null,
      "metadata": {
        "id": "m45-xOvR6-qJ"
      },
      "outputs": [],
      "source": []
    }
  ],
  "metadata": {
    "colab": {
      "provenance": []
    },
    "kernelspec": {
      "display_name": "Python 2",
      "language": "python",
      "name": "python2"
    },
    "language_info": {
      "codemirror_mode": {
        "name": "ipython",
        "version": 2
      },
      "file_extension": ".py",
      "mimetype": "text/x-python",
      "name": "python",
      "nbconvert_exporter": "python",
      "pygments_lexer": "ipython2",
      "version": "2.7.11"
    }
  },
  "nbformat": 4,
  "nbformat_minor": 0
}
