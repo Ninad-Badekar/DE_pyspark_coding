{
  "cells": [
    {
      "cell_type": "markdown",
      "metadata": {
        "id": "DHC-0qspW0F1"
      },
      "source": [
        "# Ex2 - Getting and Knowing your Data"
      ]
    },
    {
      "cell_type": "markdown",
      "metadata": {
        "id": "3Py6c0wzW0F6"
      },
      "source": [
        "### Step 1. Import the necessary libraries"
      ]
    },
    {
      "cell_type": "code",
      "execution_count": null,
      "metadata": {
        "id": "nJiEqKWGW0F7"
      },
      "outputs": [],
      "source": [
        "from pyspark.sql.functions import *\n",
        "from pyspark.sql import *\n",
        "from pyspark.sql.functions import *\n",
        "import pandas as pd\n",
        "from pyspark.sql.types import *"
      ]
    },
    {
      "cell_type": "markdown",
      "metadata": {
        "id": "_tswNEaPW0F8"
      },
      "source": [
        "### Step 2. Import the dataset from this [address](https://raw.githubusercontent.com/justmarkham/DAT8/master/data/chipotle.tsv)."
      ]
    },
    {
      "cell_type": "code",
      "execution_count": null,
      "metadata": {
        "id": "KH0VnmY8Yd8X"
      },
      "outputs": [],
      "source": [
        "spark = SparkSession.builder.appName(\"ChipotleData\").getOrCreate()"
      ]
    },
    {
      "cell_type": "code",
      "execution_count": null,
      "metadata": {
        "id": "V6XVIgR8Xcoh"
      },
      "outputs": [],
      "source": [
        "url = 'https://raw.githubusercontent.com/justmarkham/DAT8/master/data/chipotle.tsv'\n",
        "# Fetch data using Pandas\n",
        "url = \"https://raw.githubusercontent.com/justmarkham/DAT8/master/data/chipotle.tsv\"\n",
        "chipo_pd = pd.read_csv(url, sep=\"\\t\")\n",
        "\n",
        "# Convert Pandas DataFrame to PySpark DataFrame\n",
        "chipo_df = spark.createDataFrame(chipo_pd)"
      ]
    },
    {
      "cell_type": "markdown",
      "metadata": {
        "id": "S3rUi7BcW0F8"
      },
      "source": [
        "### Step 3. Assign it to a variable called chipo."
      ]
    },
    {
      "cell_type": "code",
      "execution_count": null,
      "metadata": {
        "id": "ScOkddvhW0F8"
      },
      "outputs": [],
      "source": [
        "chipo = chipo_df"
      ]
    },
    {
      "cell_type": "markdown",
      "metadata": {
        "id": "_0dk-_0DW0F8"
      },
      "source": [
        "### Step 4. See the first 10 entries"
      ]
    },
    {
      "cell_type": "code",
      "execution_count": null,
      "metadata": {
        "colab": {
          "base_uri": "https://localhost:8080/"
        },
        "id": "L95avoTHW0F9",
        "outputId": "773e09c3-696a-4129-8b51-80e181830892",
        "scrolled": false
      },
      "outputs": [
        {
          "name": "stdout",
          "output_type": "stream",
          "text": [
            "+--------+--------+--------------------+--------------------+----------+\n",
            "|order_id|quantity|           item_name|  choice_description|item_price|\n",
            "+--------+--------+--------------------+--------------------+----------+\n",
            "|       1|       1|Chips and Fresh T...|                 NaN|    $2.39 |\n",
            "|       1|       1|                Izze|        [Clementine]|    $3.39 |\n",
            "|       1|       1|    Nantucket Nectar|             [Apple]|    $3.39 |\n",
            "|       1|       1|Chips and Tomatil...|                 NaN|    $2.39 |\n",
            "|       2|       2|        Chicken Bowl|[Tomatillo-Red Ch...|   $16.98 |\n",
            "|       3|       1|        Chicken Bowl|[Fresh Tomato Sal...|   $10.98 |\n",
            "|       3|       1|       Side of Chips|                 NaN|    $1.69 |\n",
            "|       4|       1|       Steak Burrito|[Tomatillo Red Ch...|   $11.75 |\n",
            "|       4|       1|    Steak Soft Tacos|[Tomatillo Green ...|    $9.25 |\n",
            "|       5|       1|       Steak Burrito|[Fresh Tomato Sal...|    $9.25 |\n",
            "+--------+--------+--------------------+--------------------+----------+\n",
            "\n"
          ]
        }
      ],
      "source": [
        "chipo_df.limit(10).show()"
      ]
    },
    {
      "cell_type": "markdown",
      "metadata": {
        "id": "dvqY0LITW0F9"
      },
      "source": [
        "### Step 5. What is the number of observations in the dataset?"
      ]
    },
    {
      "cell_type": "code",
      "execution_count": null,
      "metadata": {
        "colab": {
          "base_uri": "https://localhost:8080/"
        },
        "id": "D07ZUd7FW0F9",
        "outputId": "3c48012b-59f1-4b48-bf03-8ac2992d6d8b"
      },
      "outputs": [
        {
          "data": {
            "text/plain": [
              "4622"
            ]
          },
          "execution_count": 29,
          "metadata": {},
          "output_type": "execute_result"
        }
      ],
      "source": [
        "\n",
        "chipo_df.count()\n"
      ]
    },
    {
      "cell_type": "markdown",
      "metadata": {
        "id": "By927ontW0F_"
      },
      "source": [
        "### Step 6. What is the number of columns in the dataset?"
      ]
    },
    {
      "cell_type": "code",
      "execution_count": null,
      "metadata": {
        "colab": {
          "base_uri": "https://localhost:8080/"
        },
        "id": "ZN5x8D4XW0F_",
        "outputId": "f9669bb8-90b6-4e98-ac38-dc33c773b4df"
      },
      "outputs": [
        {
          "data": {
            "text/plain": [
              "5"
            ]
          },
          "execution_count": 30,
          "metadata": {},
          "output_type": "execute_result"
        }
      ],
      "source": [
        "len(chipo_df.columns)"
      ]
    },
    {
      "cell_type": "markdown",
      "metadata": {
        "id": "odALsQ3PW0F_"
      },
      "source": [
        "### Step 7. Print the name of all the columns."
      ]
    },
    {
      "cell_type": "code",
      "execution_count": null,
      "metadata": {
        "colab": {
          "base_uri": "https://localhost:8080/"
        },
        "id": "XgNU2IRQW0F_",
        "outputId": "41fb4e72-2d6d-4caa-e8a4-caa19ddb6db3"
      },
      "outputs": [
        {
          "data": {
            "text/plain": [
              "['order_id', 'quantity', 'item_name', 'choice_description', 'item_price']"
            ]
          },
          "execution_count": 31,
          "metadata": {},
          "output_type": "execute_result"
        }
      ],
      "source": [
        "chipo_df.columns"
      ]
    },
    {
      "cell_type": "markdown",
      "metadata": {
        "id": "Cee5S3ckW0F_"
      },
      "source": [
        "### Step 8. How is the dataset indexed?"
      ]
    },
    {
      "cell_type": "code",
      "execution_count": null,
      "metadata": {
        "colab": {
          "base_uri": "https://localhost:8080/"
        },
        "id": "PM8kEnVoW0F_",
        "outputId": "4015e37a-c68c-4c0b-8fbf-dbcf885750d1"
      },
      "outputs": [
        {
          "data": {
            "text/plain": [
              "DataFrame[order_id: bigint, quantity: bigint, item_name: string, choice_description: string, item_price: string, index: int]"
            ]
          },
          "execution_count": 32,
          "metadata": {},
          "output_type": "execute_result"
        }
      ],
      "source": [
        "chipo_df.withColumn('index',row_number().over(Window.orderBy('order_id')))"
      ]
    },
    {
      "cell_type": "markdown",
      "metadata": {
        "id": "X2O__lAFW0GA"
      },
      "source": [
        "### Step 9. Which was the most-ordered item?"
      ]
    },
    {
      "cell_type": "code",
      "execution_count": null,
      "metadata": {
        "colab": {
          "base_uri": "https://localhost:8080/"
        },
        "id": "okWGlKs5W0GA",
        "outputId": "7cbefbde-ddef-408d-a1a2-8ee5a14bedbc"
      },
      "outputs": [
        {
          "name": "stdout",
          "output_type": "stream",
          "text": [
            "+------------+-------------+\n",
            "|   item_name|Num_of_orders|\n",
            "+------------+-------------+\n",
            "|Chicken Bowl|          726|\n",
            "+------------+-------------+\n",
            "\n"
          ]
        }
      ],
      "source": [
        "chipo_df.groupBy('item_name').agg(count('item_name').alias('Num_of_orders')).orderBy('Num_of_orders',ascending=False).limit(1).show()"
      ]
    },
    {
      "cell_type": "markdown",
      "metadata": {
        "id": "x4uR0uFlW0GA"
      },
      "source": [
        "### Step 10. For the most-ordered item, how many items were ordered?"
      ]
    },
    {
      "cell_type": "code",
      "execution_count": null,
      "metadata": {
        "colab": {
          "base_uri": "https://localhost:8080/"
        },
        "id": "bu9rPoO6W0GA",
        "outputId": "1b84a3e5-37dd-4977-ada7-9a891f5ca9aa"
      },
      "outputs": [
        {
          "name": "stdout",
          "output_type": "stream",
          "text": [
            "+------------+--------------+\n",
            "|   item_name|total_quantity|\n",
            "+------------+--------------+\n",
            "|Chicken Bowl|           761|\n",
            "+------------+--------------+\n",
            "\n"
          ]
        }
      ],
      "source": [
        "most_ordered_item = chipo_df.groupBy(\"item_name\") \\\n",
        "    .agg(sum(\"quantity\").alias(\"total_quantity\")) \\\n",
        "    .orderBy(\"total_quantity\", ascending=False) \\\n",
        "    .limit(1)\n",
        "\n",
        "most_ordered_item.show()\n"
      ]
    },
    {
      "cell_type": "markdown",
      "metadata": {
        "id": "H-OiOAmCW0GA"
      },
      "source": [
        "### Step 11. What was the most ordered item in the choice_description column?"
      ]
    },
    {
      "cell_type": "code",
      "execution_count": null,
      "metadata": {
        "colab": {
          "base_uri": "https://localhost:8080/"
        },
        "id": "b87E8abtW0GA",
        "outputId": "1436b12c-92b1-4a33-877b-48cbcc6c915d"
      },
      "outputs": [
        {
          "name": "stdout",
          "output_type": "stream",
          "text": [
            "+------------------+--------------+\n",
            "|choice_description|total_quantity|\n",
            "+------------------+--------------+\n",
            "|               NaN|          1382|\n",
            "+------------------+--------------+\n",
            "\n"
          ]
        }
      ],
      "source": [
        "most_ordered_choice = chipo_df.groupBy('choice_description').agg(sum('quantity').alias('total_quantity')).orderBy('total_quantity',ascending=False).limit(1)\n",
        "most_ordered_choice.show()"
      ]
    },
    {
      "cell_type": "markdown",
      "metadata": {
        "id": "alzINOdQW0GA"
      },
      "source": [
        "### Step 12. How many items were orderd in total?"
      ]
    },
    {
      "cell_type": "code",
      "execution_count": null,
      "metadata": {
        "colab": {
          "base_uri": "https://localhost:8080/"
        },
        "id": "_S598forW0GA",
        "outputId": "3e892ab7-bab5-4e6a-e944-ba61c2f16571"
      },
      "outputs": [
        {
          "name": "stdout",
          "output_type": "stream",
          "text": [
            "+-------------------+\n",
            "|Total_Items_Ordered|\n",
            "+-------------------+\n",
            "|               4972|\n",
            "+-------------------+\n",
            "\n"
          ]
        }
      ],
      "source": [
        "total_items = chipo_df.agg(sum('quantity').alias('Total_Items_Ordered'))\n",
        "total_items.show()"
      ]
    },
    {
      "cell_type": "markdown",
      "metadata": {
        "id": "Bc8xOO0SW0GA"
      },
      "source": [
        "### Step 13. Turn the item price into a float"
      ]
    },
    {
      "cell_type": "markdown",
      "metadata": {
        "id": "RyofRsfwW0GA"
      },
      "source": [
        "#### Step 13.a. Check the item price type"
      ]
    },
    {
      "cell_type": "code",
      "execution_count": null,
      "metadata": {
        "colab": {
          "base_uri": "https://localhost:8080/"
        },
        "id": "a87Ws2PBW0GA",
        "outputId": "d783daab-261c-4132-f95b-01c3166d5af7"
      },
      "outputs": [
        {
          "name": "stdout",
          "output_type": "stream",
          "text": [
            "root\n",
            " |-- order_id: long (nullable = true)\n",
            " |-- quantity: long (nullable = true)\n",
            " |-- item_name: string (nullable = true)\n",
            " |-- choice_description: string (nullable = true)\n",
            " |-- item_price: string (nullable = true)\n",
            "\n"
          ]
        }
      ],
      "source": [
        "chipo_df.printSchema()"
      ]
    },
    {
      "cell_type": "markdown",
      "metadata": {
        "id": "I4JrVZzUW0GB"
      },
      "source": [
        "#### Step 13.b. Create a lambda function and change the type of item price"
      ]
    },
    {
      "cell_type": "code",
      "execution_count": null,
      "metadata": {
        "collapsed": true,
        "id": "A6y4JekQW0GB"
      },
      "outputs": [],
      "source": [
        "\n",
        "to_double = udf(lambda x: float(x.replace('$','')) if x else None,DoubleType())\n",
        "chipo_df = chipo_df.withColumn('item_price',to_double('item_price'))"
      ]
    },
    {
      "cell_type": "markdown",
      "metadata": {
        "id": "bakn9MFuW0GB"
      },
      "source": [
        "#### Step 13.c. Check the item price type"
      ]
    },
    {
      "cell_type": "code",
      "execution_count": null,
      "metadata": {
        "colab": {
          "base_uri": "https://localhost:8080/"
        },
        "id": "4V7zAKBnW0GB",
        "outputId": "b2c4597b-05f3-4cf8-e2eb-32e455220f32"
      },
      "outputs": [
        {
          "name": "stdout",
          "output_type": "stream",
          "text": [
            "root\n",
            " |-- order_id: long (nullable = true)\n",
            " |-- quantity: long (nullable = true)\n",
            " |-- item_name: string (nullable = true)\n",
            " |-- choice_description: string (nullable = true)\n",
            " |-- item_price: double (nullable = true)\n",
            "\n"
          ]
        }
      ],
      "source": [
        "chipo_df.printSchema()"
      ]
    },
    {
      "cell_type": "code",
      "execution_count": null,
      "metadata": {
        "colab": {
          "base_uri": "https://localhost:8080/"
        },
        "id": "bUBdK7d0H6b6",
        "outputId": "53515684-c63b-440e-aa18-4273462782ac"
      },
      "outputs": [
        {
          "name": "stdout",
          "output_type": "stream",
          "text": [
            "+--------+--------+--------------------+--------------------+----------+\n",
            "|order_id|quantity|           item_name|  choice_description|item_price|\n",
            "+--------+--------+--------------------+--------------------+----------+\n",
            "|       1|       1|Chips and Fresh T...|                 NaN|      2.39|\n",
            "|       1|       1|                Izze|        [Clementine]|      3.39|\n",
            "|       1|       1|    Nantucket Nectar|             [Apple]|      3.39|\n",
            "|       1|       1|Chips and Tomatil...|                 NaN|      2.39|\n",
            "|       2|       2|        Chicken Bowl|[Tomatillo-Red Ch...|     16.98|\n",
            "|       3|       1|        Chicken Bowl|[Fresh Tomato Sal...|     10.98|\n",
            "|       3|       1|       Side of Chips|                 NaN|      1.69|\n",
            "|       4|       1|       Steak Burrito|[Tomatillo Red Ch...|     11.75|\n",
            "|       4|       1|    Steak Soft Tacos|[Tomatillo Green ...|      9.25|\n",
            "|       5|       1|       Steak Burrito|[Fresh Tomato Sal...|      9.25|\n",
            "|       5|       1| Chips and Guacamole|                 NaN|      4.45|\n",
            "|       6|       1|Chicken Crispy Tacos|[Roasted Chili Co...|      8.75|\n",
            "|       6|       1|  Chicken Soft Tacos|[Roasted Chili Co...|      8.75|\n",
            "|       7|       1|        Chicken Bowl|[Fresh Tomato Sal...|     11.25|\n",
            "|       7|       1| Chips and Guacamole|                 NaN|      4.45|\n",
            "|       8|       1|Chips and Tomatil...|                 NaN|      2.39|\n",
            "|       8|       1|     Chicken Burrito|[Tomatillo-Green ...|      8.49|\n",
            "|       9|       1|     Chicken Burrito|[Fresh Tomato Sal...|      8.49|\n",
            "|       9|       2|         Canned Soda|            [Sprite]|      2.18|\n",
            "|      10|       1|        Chicken Bowl|[Tomatillo Red Ch...|      8.75|\n",
            "+--------+--------+--------------------+--------------------+----------+\n",
            "only showing top 20 rows\n",
            "\n"
          ]
        }
      ],
      "source": [
        "chipo_df.show()"
      ]
    },
    {
      "cell_type": "markdown",
      "metadata": {
        "id": "jMzKMFMiW0GB"
      },
      "source": [
        "### Step 14. How much was the revenue for the period in the dataset?"
      ]
    },
    {
      "cell_type": "code",
      "execution_count": null,
      "metadata": {
        "colab": {
          "base_uri": "https://localhost:8080/"
        },
        "id": "Mp2nSv0zW0GB",
        "outputId": "ff71c471-025b-47dc-c413-02ec0fb9d765"
      },
      "outputs": [
        {
          "name": "stdout",
          "output_type": "stream",
          "text": [
            "+-----------------+\n",
            "|    Total_revenue|\n",
            "+-----------------+\n",
            "|34500.15999999998|\n",
            "+-----------------+\n",
            "\n"
          ]
        }
      ],
      "source": [
        "total_revenue = chipo_df.agg(sum('item_price').alias('Total_revenue'))\n",
        "total_revenue.show()"
      ]
    },
    {
      "cell_type": "markdown",
      "metadata": {
        "id": "rlvq9x0VW0GB"
      },
      "source": [
        "### Step 15. How many orders were made in the period?"
      ]
    },
    {
      "cell_type": "code",
      "execution_count": null,
      "metadata": {
        "colab": {
          "base_uri": "https://localhost:8080/"
        },
        "id": "oFWDnZcIW0GB",
        "outputId": "7b911014-38ac-42cb-ba86-ddbae9240a38"
      },
      "outputs": [
        {
          "name": "stdout",
          "output_type": "stream",
          "text": [
            "+-------------+\n",
            "|unique_orders|\n",
            "+-------------+\n",
            "|         1834|\n",
            "+-------------+\n",
            "\n"
          ]
        }
      ],
      "source": [
        "chipo_df.agg(countDistinct('order_id').alias('unique_orders')).show()"
      ]
    },
    {
      "cell_type": "markdown",
      "metadata": {
        "id": "aVqTHVkfW0GB"
      },
      "source": [
        "### Step 16. What is the average revenue amount per order?"
      ]
    },
    {
      "cell_type": "code",
      "execution_count": null,
      "metadata": {
        "colab": {
          "base_uri": "https://localhost:8080/"
        },
        "id": "98o2fBhCW0GB",
        "outputId": "81a22327-3421-4d65-cb9d-d5401250c02d"
      },
      "outputs": [
        {
          "name": "stdout",
          "output_type": "stream",
          "text": [
            "+---------------------+\n",
            "|avg_revenue_per_order|\n",
            "+---------------------+\n",
            "|   18.811428571428717|\n",
            "+---------------------+\n",
            "\n"
          ]
        }
      ],
      "source": [
        "revenue_per_order = chipo_df.groupBy('order_id').agg(sum('item_price').alias('order_total'))\n",
        "\n",
        "revenue_per_order.agg(avg('order_total').alias('avg_revenue_per_order')).show()"
      ]
    },
    {
      "cell_type": "markdown",
      "metadata": {
        "id": "0WRsqy_PW0GF"
      },
      "source": [
        "### Step 17. How many different items are sold?"
      ]
    },
    {
      "cell_type": "code",
      "execution_count": null,
      "metadata": {
        "colab": {
          "base_uri": "https://localhost:8080/"
        },
        "id": "Q5TMNdmHW0GF",
        "outputId": "d98ac1d1-3287-4c24-cc3d-6a472c696b28"
      },
      "outputs": [
        {
          "name": "stdout",
          "output_type": "stream",
          "text": [
            "+-------------------------+\n",
            "|count(DISTINCT item_name)|\n",
            "+-------------------------+\n",
            "|                       50|\n",
            "+-------------------------+\n",
            "\n"
          ]
        }
      ],
      "source": [
        "chipo_df.agg(countDistinct('item_name')).show()"
      ]
    },
    {
      "cell_type": "code",
      "execution_count": null,
      "metadata": {
        "id": "Ug6I-m-DNS3M"
      },
      "outputs": [],
      "source": []
    }
  ],
  "metadata": {
    "anaconda-cloud": {},
    "colab": {
      "provenance": []
    },
    "kernelspec": {
      "display_name": "Python [default]",
      "language": "python",
      "name": "python2"
    },
    "language_info": {
      "codemirror_mode": {
        "name": "ipython",
        "version": 2
      },
      "file_extension": ".py",
      "mimetype": "text/x-python",
      "name": "python",
      "nbconvert_exporter": "python",
      "pygments_lexer": "ipython2",
      "version": "2.7.12"
    }
  },
  "nbformat": 4,
  "nbformat_minor": 0
}
