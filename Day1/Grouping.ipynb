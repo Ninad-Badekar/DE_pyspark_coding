{
  "cells": [
    {
      "cell_type": "markdown",
      "metadata": {
        "id": "nnBIlkj_8ALq"
      },
      "source": [
        "# Ex - GroupBy"
      ]
    },
    {
      "cell_type": "code",
      "execution_count": 1,
      "metadata": {
        "id": "VXBN00YY8ALr"
      },
      "outputs": [],
      "source": [
        "from pyspark.sql.functions import *\n",
        "from pyspark.sql import *\n",
        "from pyspark.sql.functions import *\n",
        "import pandas as pd\n",
        "from pyspark.sql.types import *"
      ]
    },
    {
      "cell_type": "markdown",
      "metadata": {
        "id": "l7vx3-1f8ALs"
      },
      "source": [
        "### Step 2. Import the dataset from this [address](https://raw.githubusercontent.com/justmarkham/DAT8/master/data/drinks.csv)."
      ]
    },
    {
      "cell_type": "code",
      "execution_count": 2,
      "metadata": {
        "id": "7ID8HfTa8Ue9"
      },
      "outputs": [],
      "source": [
        "spark = SparkSession.builder.appName(\"ChipotleData\").getOrCreate()"
      ]
    },
    {
      "cell_type": "code",
      "execution_count": 3,
      "metadata": {
        "id": "xNiCprwP8JIQ"
      },
      "outputs": [],
      "source": [
        "drinks_pd = pd.read_csv('https://raw.githubusercontent.com/justmarkham/DAT8/master/data/drinks.csv')\n",
        "drinks_df = spark.createDataFrame(drinks_pd)"
      ]
    },
    {
      "cell_type": "markdown",
      "metadata": {
        "id": "sScxIk1N8ALs"
      },
      "source": [
        "### Step 3. Assign it to a variable called drinks."
      ]
    },
    {
      "cell_type": "code",
      "execution_count": 4,
      "metadata": {
        "colab": {
          "base_uri": "https://localhost:8080/"
        },
        "id": "YBVPWbLq8ALs",
        "outputId": "71a93f84-67b1-4154-87d9-a15660aa4a12"
      },
      "outputs": [
        {
          "name": "stdout",
          "output_type": "stream",
          "text": [
            "+-----------------+-------------+---------------+-------------+----------------------------+---------+\n",
            "|          country|beer_servings|spirit_servings|wine_servings|total_litres_of_pure_alcohol|continent|\n",
            "+-----------------+-------------+---------------+-------------+----------------------------+---------+\n",
            "|      Afghanistan|            0|              0|            0|                         0.0|       AS|\n",
            "|          Albania|           89|            132|           54|                         4.9|       EU|\n",
            "|          Algeria|           25|              0|           14|                         0.7|       AF|\n",
            "|          Andorra|          245|            138|          312|                        12.4|       EU|\n",
            "|           Angola|          217|             57|           45|                         5.9|       AF|\n",
            "|Antigua & Barbuda|          102|            128|           45|                         4.9|      NaN|\n",
            "|        Argentina|          193|             25|          221|                         8.3|       SA|\n",
            "|          Armenia|           21|            179|           11|                         3.8|       EU|\n",
            "|        Australia|          261|             72|          212|                        10.4|       OC|\n",
            "|          Austria|          279|             75|          191|                         9.7|       EU|\n",
            "|       Azerbaijan|           21|             46|            5|                         1.3|       EU|\n",
            "|          Bahamas|          122|            176|           51|                         6.3|      NaN|\n",
            "|          Bahrain|           42|             63|            7|                         2.0|       AS|\n",
            "|       Bangladesh|            0|              0|            0|                         0.0|       AS|\n",
            "|         Barbados|          143|            173|           36|                         6.3|      NaN|\n",
            "|          Belarus|          142|            373|           42|                        14.4|       EU|\n",
            "|          Belgium|          295|             84|          212|                        10.5|       EU|\n",
            "|           Belize|          263|            114|            8|                         6.8|      NaN|\n",
            "|            Benin|           34|              4|           13|                         1.1|       AF|\n",
            "|           Bhutan|           23|              0|            0|                         0.4|       AS|\n",
            "+-----------------+-------------+---------------+-------------+----------------------------+---------+\n",
            "only showing top 20 rows\n",
            "\n"
          ]
        }
      ],
      "source": [
        "drinks = drinks_df\n",
        "drinks.show()"
      ]
    },
    {
      "cell_type": "markdown",
      "metadata": {
        "id": "sTXTAiEr8ALs"
      },
      "source": [
        "### Step 4. Which continent drinks more beer on average?"
      ]
    },
    {
      "cell_type": "code",
      "execution_count": 5,
      "metadata": {
        "colab": {
          "base_uri": "https://localhost:8080/"
        },
        "id": "eLf9OUfl8ALt",
        "outputId": "eebd2af5-8ddf-4880-f3b0-2add8f809bb8"
      },
      "outputs": [
        {
          "name": "stdout",
          "output_type": "stream",
          "text": [
            "+---------+------------------+\n",
            "|continent|          avg_beer|\n",
            "+---------+------------------+\n",
            "|       EU|193.77777777777777|\n",
            "+---------+------------------+\n",
            "only showing top 1 row\n",
            "\n"
          ]
        }
      ],
      "source": [
        "from pyspark.sql import functions as F\n",
        "\n",
        "drinks.groupBy(\"continent\") \\\n",
        "      .agg(F.avg(\"beer_servings\").alias(\"avg_beer\")) \\\n",
        "      .orderBy(F.desc(\"avg_beer\")) \\\n",
        "      .show(1)\n"
      ]
    },
    {
      "cell_type": "markdown",
      "metadata": {
        "id": "-s-DQIc68ALt"
      },
      "source": [
        "### Step 5. For each continent print the statistics for wine consumption."
      ]
    },
    {
      "cell_type": "code",
      "execution_count": 7,
      "metadata": {
        "colab": {
          "base_uri": "https://localhost:8080/"
        },
        "id": "ZEum177f8ALt",
        "outputId": "8755a5b5-3a1b-41ae-a8ce-d09a37a2039f"
      },
      "outputs": [
        {
          "name": "stdout",
          "output_type": "stream",
          "text": [
            "+---------+------------------+------------------+------------------+------------------+\n",
            "|continent|sum(wine_servings)|avg(wine_servings)|max(wine_servings)|min(wine_servings)|\n",
            "+---------+------------------+------------------+------------------+------------------+\n",
            "|       SA|               749|62.416666666666664|               221|                 1|\n",
            "|      NaN|               564| 24.52173913043478|               100|                 1|\n",
            "|       AS|               399| 9.068181818181818|               123|                 0|\n",
            "|       OC|               570|            35.625|               212|                 0|\n",
            "|       EU|              6400|142.22222222222223|               370|                 0|\n",
            "|       AF|               862|16.264150943396228|               233|                 0|\n",
            "+---------+------------------+------------------+------------------+------------------+\n",
            "\n"
          ]
        }
      ],
      "source": [
        "drinks.groupBy('continent').agg(sum('wine_servings'),avg('wine_servings'),max('wine_servings'),min('wine_servings')).show()"
      ]
    },
    {
      "cell_type": "markdown",
      "metadata": {
        "id": "OPtfuNTg8ALt"
      },
      "source": [
        "### Step 6. Print the mean alcohol consumption per continent for every column"
      ]
    },
    {
      "cell_type": "code",
      "execution_count": 10,
      "metadata": {
        "colab": {
          "base_uri": "https://localhost:8080/"
        },
        "id": "qHCDiWSP8ALt",
        "outputId": "2974ae02-2e0f-4828-d149-2d9f1f5e77bd"
      },
      "outputs": [
        {
          "name": "stdout",
          "output_type": "stream",
          "text": [
            "+---------+---------------------------------+\n",
            "|continent|avg(total_litres_of_pure_alcohol)|\n",
            "+---------+---------------------------------+\n",
            "|       SA|                6.308333333333334|\n",
            "|      NaN|                5.995652173913045|\n",
            "|       AS|               2.1704545454545454|\n",
            "|       OC|               3.3812499999999996|\n",
            "|       EU|                8.617777777777778|\n",
            "|       AF|               3.0075471698113208|\n",
            "+---------+---------------------------------+\n",
            "\n"
          ]
        }
      ],
      "source": [
        "drinks.groupBy('continent').agg(avg('total_litres_of_pure_alcohol')).show()"
      ]
    },
    {
      "cell_type": "markdown",
      "metadata": {
        "id": "ZisSbWpc8ALt"
      },
      "source": [
        "### Step 7. Print the median alcohol consumption per continent for every column"
      ]
    },
    {
      "cell_type": "code",
      "execution_count": 11,
      "metadata": {
        "colab": {
          "base_uri": "https://localhost:8080/"
        },
        "id": "ii1iTPtL8ALu",
        "outputId": "82ec17aa-f3a3-43fd-8024-d956a882d95a"
      },
      "outputs": [
        {
          "name": "stdout",
          "output_type": "stream",
          "text": [
            "+---------+------------------------------------+\n",
            "|continent|median(total_litres_of_pure_alcohol)|\n",
            "+---------+------------------------------------+\n",
            "|       SA|                                6.85|\n",
            "|      NaN|                                 6.3|\n",
            "|       AS|                                 1.2|\n",
            "|       OC|                                1.75|\n",
            "|       EU|                                10.0|\n",
            "|       AF|                                 2.3|\n",
            "+---------+------------------------------------+\n",
            "\n"
          ]
        }
      ],
      "source": [
        "drinks.groupBy('continent').agg(median('total_litres_of_pure_alcohol')).show()"
      ]
    },
    {
      "cell_type": "markdown",
      "metadata": {
        "id": "Xy260gQ98ALu"
      },
      "source": [
        "### Step 8. Print the mean, min and max values for spirit consumption.\n",
        "#### This time output a DataFrame"
      ]
    },
    {
      "cell_type": "code",
      "execution_count": 12,
      "metadata": {
        "colab": {
          "base_uri": "https://localhost:8080/"
        },
        "id": "Y1PUiIN28ALu",
        "outputId": "b9fb6366-2c45-4a58-d83e-df704aee48c7"
      },
      "outputs": [
        {
          "name": "stdout",
          "output_type": "stream",
          "text": [
            "+---------+--------------------+--------------------+--------------------+\n",
            "|continent|avg(spirit_servings)|max(spirit_servings)|min(spirit_servings)|\n",
            "+---------+--------------------+--------------------+--------------------+\n",
            "|       SA|              114.75|                 302|                  25|\n",
            "|      NaN|   165.7391304347826|                 438|                  68|\n",
            "|       AS|   60.84090909090909|                 326|                   0|\n",
            "|       OC|             58.4375|                 254|                   0|\n",
            "|       EU|  132.55555555555554|                 373|                   0|\n",
            "|       AF|  16.339622641509433|                 152|                   0|\n",
            "+---------+--------------------+--------------------+--------------------+\n",
            "\n"
          ]
        }
      ],
      "source": [
        "drinks.groupBy('continent').agg(avg('spirit_servings'),max('spirit_servings'),min('spirit_servings')).show()"
      ]
    },
    {
      "cell_type": "code",
      "execution_count": null,
      "metadata": {
        "id": "ux5zIfXvDcyd"
      },
      "outputs": [],
      "source": []
    }
  ],
  "metadata": {
    "colab": {
      "provenance": []
    },
    "kernelspec": {
      "display_name": "Python 2",
      "language": "python",
      "name": "python2"
    },
    "language_info": {
      "codemirror_mode": {
        "name": "ipython",
        "version": 2
      },
      "file_extension": ".py",
      "mimetype": "text/x-python",
      "name": "python",
      "nbconvert_exporter": "python",
      "pygments_lexer": "ipython2",
      "version": "2.7.16"
    }
  },
  "nbformat": 4,
  "nbformat_minor": 0
}
